{
  "nbformat": 4,
  "nbformat_minor": 0,
  "metadata": {
    "colab": {
      "provenance": [],
      "authorship_tag": "ABX9TyMoV7bEACg5ZEUxfUgqwIZG",
      "include_colab_link": true
    },
    "kernelspec": {
      "name": "python3",
      "display_name": "Python 3"
    },
    "language_info": {
      "name": "python"
    }
  },
  "cells": [
    {
      "cell_type": "markdown",
      "metadata": {
        "id": "view-in-github",
        "colab_type": "text"
      },
      "source": [
        "<a href=\"https://colab.research.google.com/github/CrestwoodCustomSolutions/Crestwood-PythonClass/blob/main/Level_06_Part_11.ipynb\" target=\"_parent\"><img src=\"https://colab.research.google.com/assets/colab-badge.svg\" alt=\"Open In Colab\"/></a>"
      ]
    },
    {
      "cell_type": "code",
      "execution_count": 3,
      "metadata": {
        "colab": {
          "base_uri": "https://localhost:8080/"
        },
        "id": "8q8_fuMAArZn",
        "outputId": "370ac968-a20c-4c00-bfd4-f896dc8e3f2f"
      },
      "outputs": [
        {
          "output_type": "stream",
          "name": "stdout",
          "text": [
            "Tasks: 'planning','design','coding','testing',\n",
            "Enter a task to log time for it or enter exit to stop the program.\n",
            "design\n",
            "How many hours did you spend on this task? 2\n",
            "Tasks: 'planning','design','coding','testing',\n",
            "Enter a task to log time for it or enter exit to stop the program.\n",
            "exit\n",
            "Task: planning Hours spent 0.0\n",
            "Task: design Hours spent 2.0\n",
            "Task: coding Hours spent 0.0\n",
            "Task: testing Hours spent 0.0\n"
          ]
        }
      ],
      "source": [
        "#Level 6 Final Exercise: Time Tracker for Tasks\n",
        "tasks = [\"planning\",\"design\",\"coding\",\"testing\"]\n",
        "hours = [0.0,0.0,0.0,0.0]\n",
        "\n",
        "def print_summary(tasks,hours):\n",
        "  counter = 0\n",
        "  print(\"Summary of time spent on tasks:\")\n",
        "  while counter < len(tasks):\n",
        "    task = str(tasks[counter])\n",
        "    hr = hours[counter]\n",
        "    print(f\"Task: {task} Hours spent {hr:.1f}\")\n",
        "    counter += 1\n",
        "\n",
        "def print_summary_alt(tasks,hours):\n",
        "  for t in range(len(tasks)):\n",
        "    print(f\"Task: {tasks[t]} Hours spent {hours[t]:.1f}\")\n",
        "\n",
        "def print_task_list(tasks):\n",
        "  task_list = \"Tasks: \"\n",
        "  for x in tasks:\n",
        "    task_list = task_list + \"'\" + x + \"',\"\n",
        "  print(task_list)\n",
        "\n",
        "next_task = \"\"\n",
        "while next_task != \"exit\":\n",
        "  print_task_list (tasks)\n",
        "  next_task = input(\"Enter a task to log time for it or enter exit to stop the program.\\n\")\n",
        "  if next_task == \"exit\":\n",
        "    break\n",
        "\n",
        "  if next_task in tasks:\n",
        "    next_hours = input(\"How many hours did you spend on this task? \")\n",
        "    task_index = tasks.index(next_task)\n",
        "    hours[task_index] = hours[task_index] + float(next_hours)\n",
        "  else:\n",
        "    print(\"Oops! We couln't find that task. Please try again.\")\n",
        "\n",
        "print_summary_alt(tasks,hours)\n"
      ]
    }
  ]
}