{
  "nbformat": 4,
  "nbformat_minor": 0,
  "metadata": {
    "colab": {
      "provenance": [],
      "authorship_tag": "ABX9TyN+K8qlgxRFg2wR5LM4YwKC",
      "include_colab_link": true
    },
    "kernelspec": {
      "name": "python3",
      "display_name": "Python 3"
    },
    "language_info": {
      "name": "python"
    }
  },
  "cells": [
    {
      "cell_type": "markdown",
      "metadata": {
        "id": "view-in-github",
        "colab_type": "text"
      },
      "source": [
        "<a href=\"https://colab.research.google.com/github/CrestwoodCustomSolutions/Crestwood-PythonClass/blob/main/Level_09_Part_04.ipynb\" target=\"_parent\"><img src=\"https://colab.research.google.com/assets/colab-badge.svg\" alt=\"Open In Colab\"/></a>"
      ]
    },
    {
      "cell_type": "code",
      "execution_count": 5,
      "metadata": {
        "colab": {
          "base_uri": "https://localhost:8080/"
        },
        "id": "oMI2vpIULjZU",
        "outputId": "c49b4c16-f506-4bf7-b3be-50b32c9d9694"
      },
      "outputs": [
        {
          "output_type": "stream",
          "name": "stdout",
          "text": [
            "Truck has loud engine\n",
            "Engine stopped\n"
          ]
        }
      ],
      "source": [
        "# Intro to OOP\n",
        "# Lesson 9.10\n",
        "\n",
        "class Vehicle:\n",
        "  def start_engine(self):\n",
        "    print(\"Engine started\")\n",
        "\n",
        "  def stop_engine(self):\n",
        "    print(\"Engine stopped\")\n",
        "\n",
        "class Car(Vehicle):\n",
        "  pass\n",
        "\n",
        "class Truck(Vehicle):\n",
        "  def start_engine(self):\n",
        "    print(\"Truck has loud engine\")\n",
        "\n",
        "\n",
        "my_car= Truck()\n",
        "my_car.start_engine()\n",
        "my_car.stop_engine()\n",
        ""
      ]
    },
    {
      "cell_type": "code",
      "source": [],
      "metadata": {
        "id": "P_c2qJYFMjSc"
      },
      "execution_count": null,
      "outputs": []
    }
  ]
}