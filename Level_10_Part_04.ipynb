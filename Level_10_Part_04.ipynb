{
  "nbformat": 4,
  "nbformat_minor": 0,
  "metadata": {
    "colab": {
      "provenance": [],
      "include_colab_link": true
    },
    "kernelspec": {
      "name": "python3",
      "display_name": "Python 3"
    },
    "language_info": {
      "name": "python"
    }
  },
  "cells": [
    {
      "cell_type": "markdown",
      "metadata": {
        "id": "view-in-github",
        "colab_type": "text"
      },
      "source": [
        "<a href=\"https://colab.research.google.com/github/CrestwoodCustomSolutions/Crestwood-PythonClass/blob/main/Level_10_Part_04.ipynb\" target=\"_parent\"><img src=\"https://colab.research.google.com/assets/colab-badge.svg\" alt=\"Open In Colab\"/></a>"
      ]
    },
    {
      "cell_type": "markdown",
      "source": [
        "#  Indexing and Slicing - Accessing Array Elements in NumPy\n",
        "\n",
        "## Introduction\n",
        "\n",
        "\n",
        "---\n",
        "\n",
        "## Part 1: Basic Indexing\n",
        "\n",
        "\n",
        "\n",
        "\n",
        "\n",
        "\n",
        "\n"
      ],
      "metadata": {
        "id": "5fzcvocW7cGU"
      }
    },
    {
      "cell_type": "code",
      "execution_count": null,
      "metadata": {
        "id": "r9m8a2Ka7ZbY"
      },
      "outputs": [],
      "source": [
        "import numpy as np"
      ]
    },
    {
      "cell_type": "code",
      "source": [
        "exam_scores = np.array([90, 85, 77, 92])"
      ],
      "metadata": {
        "id": "Iha1W9q1Xp8D"
      },
      "execution_count": null,
      "outputs": []
    },
    {
      "cell_type": "code",
      "source": [
        "print(\"First student's score is: \", exam_scores[0])"
      ],
      "metadata": {
        "colab": {
          "base_uri": "https://localhost:8080/"
        },
        "id": "3Mlb7dk2XvXa",
        "outputId": "5a0dd332-c5fb-4f86-d70c-075c9b785aa2"
      },
      "execution_count": null,
      "outputs": [
        {
          "output_type": "stream",
          "name": "stdout",
          "text": [
            "First student's score is:  90\n"
          ]
        }
      ]
    },
    {
      "cell_type": "markdown",
      "source": [
        "## Part 2: Multidimensional Indexing\n",
        "    - Accessing elements in 2D and 3D arrays.\n",
        "    - Using row and column indices.\n"
      ],
      "metadata": {
        "id": "Xy4UVJBO7eqt"
      }
    },
    {
      "cell_type": "code",
      "source": [
        "sales_data = np.array([\n",
        "    [[200, 222], 220, 250],\n",
        "    [210, 230, 275],\n",
        "    [190, 205, 235]\n",
        "])"
      ],
      "metadata": {
        "id": "kVzzf8377e65",
        "colab": {
          "base_uri": "https://localhost:8080/"
        },
        "outputId": "dcbb121b-261e-45ed-bc15-6d4d3a1777a3"
      },
      "execution_count": null,
      "outputs": [
        {
          "output_type": "stream",
          "name": "stderr",
          "text": [
            "<ipython-input-9-be08a371c6c6>:1: VisibleDeprecationWarning: Creating an ndarray from ragged nested sequences (which is a list-or-tuple of lists-or-tuples-or ndarrays with different lengths or shapes) is deprecated. If you meant to do this, you must specify 'dtype=object' when creating the ndarray.\n",
            "  sales_data = np.array([\n"
          ]
        }
      ]
    },
    {
      "cell_type": "code",
      "source": [
        "sales_data[0, 0][1]"
      ],
      "metadata": {
        "colab": {
          "base_uri": "https://localhost:8080/"
        },
        "id": "flZ-LASMYQEO",
        "outputId": "62031e01-80af-4f02-8684-cdd273916abb"
      },
      "execution_count": null,
      "outputs": [
        {
          "output_type": "execute_result",
          "data": {
            "text/plain": [
              "222"
            ]
          },
          "metadata": {},
          "execution_count": 13
        }
      ]
    },
    {
      "cell_type": "markdown",
      "source": [
        "## Part 3: Basic Slicing\n",
        "    - How to slice arrays to get subarrays.\n",
        "    - Using the `start:stop:step` notation.\n"
      ],
      "metadata": {
        "id": "3Qh3lo4O7fK5"
      }
    },
    {
      "cell_type": "code",
      "source": [
        "monthly_revenue = np.array([200, 220, 250, 275, 344, 350, 320, 400, 420, 450, 450])"
      ],
      "metadata": {
        "id": "-yIeswp87fjo"
      },
      "execution_count": null,
      "outputs": []
    },
    {
      "cell_type": "code",
      "source": [
        "monthly_revenue[1:5]\n",
        "monthly_revenue[::2]\n",
        "monthly_revenue[::-1]"
      ],
      "metadata": {
        "colab": {
          "base_uri": "https://localhost:8080/"
        },
        "id": "ZNLfTbhHZSbA",
        "outputId": "f266479a-4252-439e-9e8f-485b74efd2be"
      },
      "execution_count": null,
      "outputs": [
        {
          "output_type": "execute_result",
          "data": {
            "text/plain": [
              "array([450, 450, 420, 400, 320, 350, 344, 275, 250, 220, 200])"
            ]
          },
          "metadata": {},
          "execution_count": 8
        }
      ]
    },
    {
      "cell_type": "markdown",
      "source": [
        "## Part 4: Advanced Slicing Techniques\n",
        "    - Using boolean arrays for indexing.\n",
        "    - Combining slicing with conditional statements.\n"
      ],
      "metadata": {
        "id": "gVmVH-2H7f13"
      }
    },
    {
      "cell_type": "code",
      "source": [
        "avg = np.mean(monthly_revenue)\n",
        "avg"
      ],
      "metadata": {
        "id": "_LuQ0sRA7gIi",
        "colab": {
          "base_uri": "https://localhost:8080/"
        },
        "outputId": "47fa6483-bad5-4419-b1f2-847af3b0406a"
      },
      "execution_count": null,
      "outputs": [
        {
          "output_type": "execute_result",
          "data": {
            "text/plain": [
              "334.45454545454544"
            ]
          },
          "metadata": {},
          "execution_count": 9
        }
      ]
    },
    {
      "cell_type": "code",
      "source": [
        "monthly_revenue > avg"
      ],
      "metadata": {
        "id": "L2MVdh9U53GH",
        "outputId": "9adb2801-c837-4580-f90d-613fd0eb4c96",
        "colab": {
          "base_uri": "https://localhost:8080/"
        }
      },
      "execution_count": null,
      "outputs": [
        {
          "output_type": "execute_result",
          "data": {
            "text/plain": [
              "array([False, False, False, False,  True,  True, False,  True,  True,\n",
              "        True,  True])"
            ]
          },
          "metadata": {},
          "execution_count": 10
        }
      ]
    },
    {
      "cell_type": "code",
      "source": [
        "monthly_revenue[monthly_revenue > avg]"
      ],
      "metadata": {
        "colab": {
          "base_uri": "https://localhost:8080/"
        },
        "id": "pmZHMCryZ_85",
        "outputId": "6ccde160-088e-4f6b-9d1d-f7b9fa13b600"
      },
      "execution_count": null,
      "outputs": [
        {
          "output_type": "execute_result",
          "data": {
            "text/plain": [
              "array([344, 350, 400, 420, 450, 450])"
            ]
          },
          "metadata": {},
          "execution_count": 25
        }
      ]
    },
    {
      "cell_type": "code",
      "source": [],
      "metadata": {
        "id": "mhLCcSsjZ_0T"
      },
      "execution_count": null,
      "outputs": []
    },
    {
      "cell_type": "markdown",
      "source": [
        "## Part 5: Important Caveats and Best Practices\n",
        "    - Mention that slices are views, not copies.\n",
        "    - The importance of being aware of data types when slicing and indexing.\n"
      ],
      "metadata": {
        "id": "uKf6dcfY7gjA"
      }
    },
    {
      "cell_type": "code",
      "source": [
        "monthly_revenue_ab_avg = monthly_revenue[monthly_revenue > avg]"
      ],
      "metadata": {
        "id": "TVsEj9w67hRq"
      },
      "execution_count": null,
      "outputs": []
    },
    {
      "cell_type": "code",
      "source": [
        "monthly_revenue_ab_avg"
      ],
      "metadata": {
        "id": "iCSJqYcXae7p",
        "outputId": "29da38f4-ca93-42f0-a0c8-afbe7d53a1c2",
        "colab": {
          "base_uri": "https://localhost:8080/"
        }
      },
      "execution_count": null,
      "outputs": [
        {
          "output_type": "execute_result",
          "data": {
            "text/plain": [
              "array([344, 350, 400, 420, 450, 450])"
            ]
          },
          "metadata": {},
          "execution_count": 28
        }
      ]
    },
    {
      "cell_type": "code",
      "source": [],
      "metadata": {
        "id": "RH0Ygt2eakyP"
      },
      "execution_count": null,
      "outputs": []
    }
  ]
}