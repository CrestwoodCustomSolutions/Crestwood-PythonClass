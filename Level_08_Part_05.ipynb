{
  "nbformat": 4,
  "nbformat_minor": 0,
  "metadata": {
    "colab": {
      "provenance": [],
      "authorship_tag": "ABX9TyPrzE6wx3G+kSHalI1LLIrh",
      "include_colab_link": true
    },
    "kernelspec": {
      "name": "python3",
      "display_name": "Python 3"
    },
    "language_info": {
      "name": "python"
    }
  },
  "cells": [
    {
      "cell_type": "markdown",
      "metadata": {
        "id": "view-in-github",
        "colab_type": "text"
      },
      "source": [
        "<a href=\"https://colab.research.google.com/github/CrestwoodCustomSolutions/Crestwood-PythonClass/blob/main/Level_08_Part_05.ipynb\" target=\"_parent\"><img src=\"https://colab.research.google.com/assets/colab-badge.svg\" alt=\"Open In Colab\"/></a>"
      ]
    },
    {
      "cell_type": "code",
      "execution_count": null,
      "metadata": {
        "id": "ZPbK_HVxOd4m",
        "colab": {
          "base_uri": "https://localhost:8080/"
        },
        "outputId": "1b904360-7258-4e5e-87af-64d2305d356b"
      },
      "outputs": [
        {
          "output_type": "stream",
          "name": "stdout",
          "text": [
            "['Princess', 'Lea']\n",
            "Yoda\n",
            "Baby Yoda\n"
          ]
        }
      ],
      "source": [
        "#Exercise 8.3 Advanced String Operations\n",
        "\n",
        "name1 = 'Princess Lea'\n",
        "name2 = 'Baby Yoda'\n",
        "name3 = 'Babay Yoda'\n",
        "\n",
        "print(name1.split(\" \"))\n",
        "print(name2.lstrip(\"Baby \"))\n",
        "print(name3.replace(\"Babay\",\"Baby\"))\n"
      ]
    }
  ]
}