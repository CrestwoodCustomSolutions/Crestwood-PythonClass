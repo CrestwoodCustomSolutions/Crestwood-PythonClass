{
  "nbformat": 4,
  "nbformat_minor": 0,
  "metadata": {
    "colab": {
      "provenance": [],
      "authorship_tag": "ABX9TyMj1whXDW+4Nil0BYbRHwcz",
      "include_colab_link": true
    },
    "kernelspec": {
      "name": "python3",
      "display_name": "Python 3"
    },
    "language_info": {
      "name": "python"
    }
  },
  "cells": [
    {
      "cell_type": "markdown",
      "metadata": {
        "id": "view-in-github",
        "colab_type": "text"
      },
      "source": [
        "<a href=\"https://colab.research.google.com/github/CrestwoodCustomSolutions/Crestwood-PythonClass/blob/main/Level_09_Part_09.ipynb\" target=\"_parent\"><img src=\"https://colab.research.google.com/assets/colab-badge.svg\" alt=\"Open In Colab\"/></a>"
      ]
    },
    {
      "cell_type": "code",
      "execution_count": 9,
      "metadata": {
        "colab": {
          "base_uri": "https://localhost:8080/"
        },
        "id": "OT8kEtcBrkd1",
        "outputId": "31e65b62-ba59-47b7-d354-c97b8dfc18a4"
      },
      "outputs": [
        {
          "output_type": "stream",
          "name": "stdout",
          "text": [
            "1. Create Account\n",
            "2. Deposit\n",
            "3. Withdraw\n",
            "4. Check Balance\n",
            "5. Exit\n",
            "Enter your choice: 5\n",
            "Exiting the program.\n"
          ]
        }
      ],
      "source": [
        "# Level 9, Final Exercise\n",
        "class BankAccount:\n",
        "  def __init__(self, account_number, initial_balance):\n",
        "    self.account_number = account_number\n",
        "    self.balance  = initial_balance\n",
        "  def deposit(self, amount):\n",
        "    self.balance += amount\n",
        "    print(\"New balance is: \", self.balance)\n",
        "\n",
        "  def withdraw(self, amount):\n",
        "    if amount <= self.balance:\n",
        "      self.balance -= amount\n",
        "      print(\"New balance is: \", self.balance)\n",
        "    else:\n",
        "      print(\"Insufficient funds\")\n",
        "  def check_balance(self):\n",
        "    return self.balance\n",
        "\n",
        "accounts = {}\n",
        "\n",
        "while True:\n",
        "  print(\"1. Create Account\")\n",
        "  print(\"2. Deposit\")\n",
        "  print(\"3. Withdraw\")\n",
        "  print(\"4. Check Balance\")\n",
        "  print(\"5. Exit\")\n",
        "  choice = input(\"Enter your choice: \")\n",
        "\n",
        "  if choice == \"1\":\n",
        "    account_number = input(\"Enter account number: \")\n",
        "    initial_balance = float(input(\"Enter initial balance: \"))\n",
        "    accounts[account_number] = BankAccount(account_number, initial_balance)\n",
        "\n",
        "  if choice == \"2\":\n",
        "    account_number = input(\"Enter account number: \")\n",
        "    amount = float(input(\"Enter deposit amount: \"))\n",
        "    if account_number in accounts:\n",
        "      accounts[account_number].deposit(amount)\n",
        "    else:\n",
        "      print(\"Couln't find that account number.\")\n",
        "\n",
        "  if choice == \"3\":\n",
        "    account_number = input(\"Enter account number: \")\n",
        "    amount = float(input(\"Enter withdrawal amount: \"))\n",
        "    if account_number in accounts:\n",
        "      accounts[account_number].withdraw(amount)\n",
        "    else:\n",
        "      print(\"Couln't find that account number.\")\n",
        "\n",
        "  if choice == \"4\":\n",
        "    account_number = input(\"Enter account number: \")\n",
        "    if account_number in accounts:\n",
        "      balance = accounts[account_number].check_balance()\n",
        "      print(f\"Account Balance: ${balance}\")\n",
        "    else:\n",
        "      print(\"Couln't find that account number.\")\n",
        "\n",
        "  if choice == \"5\":\n",
        "    print(\"Exiting the program.\")\n",
        "    break\n"
      ]
    }
  ]
}