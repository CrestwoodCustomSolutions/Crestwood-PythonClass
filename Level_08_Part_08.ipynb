{
  "nbformat": 4,
  "nbformat_minor": 0,
  "metadata": {
    "colab": {
      "provenance": [],
      "authorship_tag": "ABX9TyNsj4t6UNPiS02Mx19wtb81",
      "include_colab_link": true
    },
    "kernelspec": {
      "name": "python3",
      "display_name": "Python 3"
    },
    "language_info": {
      "name": "python"
    }
  },
  "cells": [
    {
      "cell_type": "markdown",
      "metadata": {
        "id": "view-in-github",
        "colab_type": "text"
      },
      "source": [
        "<a href=\"https://colab.research.google.com/github/CrestwoodCustomSolutions/Crestwood-PythonClass/blob/main/Level_08_Part_08.ipynb\" target=\"_parent\"><img src=\"https://colab.research.google.com/assets/colab-badge.svg\" alt=\"Open In Colab\"/></a>"
      ]
    },
    {
      "cell_type": "code",
      "execution_count": 8,
      "metadata": {
        "colab": {
          "base_uri": "https://localhost:8080/"
        },
        "id": "qiJJwR4Yg1EX",
        "outputId": "85846d83-4937-4ecf-db10-823af4906b2a"
      },
      "outputs": [
        {
          "output_type": "stream",
          "name": "stdout",
          "text": [
            "{'Order': 0, 'App': 0, 'Payment': 0, 'Account': 0, 'Delivery': 0}\n",
            "{'Order': 1, 'App': 1, 'Payment': 1, 'Account': 2, 'Delivery': 1}\n",
            "Enter a keyword to search: a\n",
            "['My order is delayed']\n"
          ]
        }
      ],
      "source": [
        "# Level 08 Final Exercise\n",
        "# Customer Support Chat Logs\n",
        "\n",
        "chat_logs = [\n",
        "    \"My order is delayed\",\n",
        "    \"I want to return my purchase\",\n",
        "    \"The app is crashing frequently\",\n",
        "    \"Payment issues, please help\",\n",
        "    \"Need help with account recovery\",\n",
        "    \"Delivery was incomplete\",\n",
        "    \"Can't login to my account\",\n",
        "    \"Having trouble with checkout\"\n",
        "]\n",
        "categories = {\"Order\":0, \"App\":0, \"Payment\":0, \"Account\":0, \"Delivery\":0}\n",
        "\n",
        "# Step 1: function to categorize issues\n",
        "def categorize_issues(chat_log):\n",
        "  for log in chat_log:\n",
        "    log_lower = log.lower()\n",
        "    for category in categories:\n",
        "      if category.lower() in log_lower:\n",
        "        categories[category] += 1\n",
        "  return categories\n",
        "# Step 2: Function to search by keyword\n",
        "def keyword_search(keyword, logs):\n",
        "  keyword = keyword.lower()\n",
        "  results = []\n",
        "  for log in logs:\n",
        "    if keyword in log.lower():\n",
        "      results.append(log)\n",
        "\n",
        "    return results\n",
        "# Step 3: Display and search\n",
        "\n",
        "print (categories)\n",
        "categorize_issues(chat_logs)\n",
        "print (categories)\n",
        "\n",
        "keyword = input(\"Enter a keyword to search: \")\n",
        "print (keyword_search(keyword, chat_logs))\n"
      ]
    }
  ]
}