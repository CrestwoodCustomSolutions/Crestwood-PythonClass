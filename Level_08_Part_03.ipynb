{
  "nbformat": 4,
  "nbformat_minor": 0,
  "metadata": {
    "colab": {
      "provenance": [],
      "authorship_tag": "ABX9TyPHgQWk4t13YbDBvt4Q8ENk",
      "include_colab_link": true
    },
    "kernelspec": {
      "name": "python3",
      "display_name": "Python 3"
    },
    "language_info": {
      "name": "python"
    }
  },
  "cells": [
    {
      "cell_type": "markdown",
      "metadata": {
        "id": "view-in-github",
        "colab_type": "text"
      },
      "source": [
        "<a href=\"https://colab.research.google.com/github/CrestwoodCustomSolutions/Crestwood-PythonClass/blob/main/Level_08_Part_03.ipynb\" target=\"_parent\"><img src=\"https://colab.research.google.com/assets/colab-badge.svg\" alt=\"Open In Colab\"/></a>"
      ]
    },
    {
      "cell_type": "code",
      "execution_count": 9,
      "metadata": {
        "colab": {
          "base_uri": "https://localhost:8080/"
        },
        "id": "cQLZb7dbwmol",
        "outputId": "24152270-2329-49b0-9a14-b33e8fa01c78"
      },
      "outputs": [
        {
          "output_type": "stream",
          "name": "stdout",
          "text": [
            "['Darth', 'Vader']\n",
            "<class 'list'>\n",
            "<class 'tuple'>\n",
            "Chris\n",
            "Washington|\n"
          ]
        }
      ],
      "source": [
        "name = \"Darth Vader\"\n",
        "x = name.split(\" \")\n",
        "print(x)\n",
        "print(type(x))\n",
        "\n",
        "\n",
        "name = (\"Christopher\",\"Haroun\")\n",
        "print(type(name))\n",
        "\n",
        "name = \"Chrisy\"\n",
        "x = name.strip(\"y\")\n",
        "print(x)\n",
        "\n",
        "name = \"    Washington    \"\n",
        "x = name.strip()\n",
        "print(x + \"|\")\n"
      ]
    }
  ]
}