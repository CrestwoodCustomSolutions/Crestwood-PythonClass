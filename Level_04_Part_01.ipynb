{
  "nbformat": 4,
  "nbformat_minor": 0,
  "metadata": {
    "colab": {
      "provenance": [],
      "authorship_tag": "ABX9TyNZxDdho2Jc1VvOR231WFvi",
      "include_colab_link": true
    },
    "kernelspec": {
      "name": "python3",
      "display_name": "Python 3"
    },
    "language_info": {
      "name": "python"
    }
  },
  "cells": [
    {
      "cell_type": "markdown",
      "metadata": {
        "id": "view-in-github",
        "colab_type": "text"
      },
      "source": [
        "<a href=\"https://colab.research.google.com/github/CrestwoodCustomSolutions/Crestwood-PythonClass/blob/main/Level_04_Part_01.ipynb\" target=\"_parent\"><img src=\"https://colab.research.google.com/assets/colab-badge.svg\" alt=\"Open In Colab\"/></a>"
      ]
    },
    {
      "cell_type": "code",
      "execution_count": 6,
      "metadata": {
        "colab": {
          "base_uri": "https://localhost:8080/"
        },
        "id": "OmES7anKufz0",
        "outputId": "fc1dc261-8021-4a11-ec6f-ed691caceb22"
      },
      "outputs": [
        {
          "output_type": "stream",
          "name": "stdout",
          "text": [
            "3\n",
            "7.6\n",
            "-8\n",
            "11\n"
          ]
        }
      ],
      "source": [
        "a=1\n",
        "b=2\n",
        "c=3\n",
        "min_value = max(a,b,c)\n",
        "print(min_value)\n",
        "\n",
        "d = -7.6\n",
        "print(abs(d))\n",
        "\n",
        "print(round(round(d)))\n",
        "\n",
        "g,h,i = 10,11,12\n",
        "print(h)"
      ]
    }
  ]
}