{
  "nbformat": 4,
  "nbformat_minor": 0,
  "metadata": {
    "colab": {
      "provenance": [],
      "authorship_tag": "ABX9TyMVHBXkeYx2qleKeWh3YPGA",
      "include_colab_link": true
    },
    "kernelspec": {
      "name": "python3",
      "display_name": "Python 3"
    },
    "language_info": {
      "name": "python"
    }
  },
  "cells": [
    {
      "cell_type": "markdown",
      "metadata": {
        "id": "view-in-github",
        "colab_type": "text"
      },
      "source": [
        "<a href=\"https://colab.research.google.com/github/CrestwoodCustomSolutions/Crestwood-PythonClass/blob/main/Level_04_Part_05.ipynb\" target=\"_parent\"><img src=\"https://colab.research.google.com/assets/colab-badge.svg\" alt=\"Open In Colab\"/></a>"
      ]
    },
    {
      "cell_type": "code",
      "execution_count": 2,
      "metadata": {
        "colab": {
          "base_uri": "https://localhost:8080/"
        },
        "id": "Znf6ertw40jP",
        "outputId": "b208e029-fa2b-415f-835b-8a2fce8382ef"
      },
      "outputs": [
        {
          "output_type": "stream",
          "name": "stdout",
          "text": [
            "How old is Rey? 19\n",
            "Rey's age is 19.\n"
          ]
        }
      ],
      "source": [
        "def age_of_rey():\n",
        "  rey_age = input(\"How old is Rey? \")\n",
        "  print(\"Rey's age is \" + str(rey_age) + \".\")\n",
        "\n",
        "age_of_rey()\n"
      ]
    }
  ]
}