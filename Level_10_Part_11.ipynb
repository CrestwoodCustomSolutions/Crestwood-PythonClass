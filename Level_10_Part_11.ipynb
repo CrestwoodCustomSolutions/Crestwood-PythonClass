{
  "nbformat": 4,
  "nbformat_minor": 0,
  "metadata": {
    "colab": {
      "provenance": [],
      "authorship_tag": "ABX9TyNlXN2mY+YF3hH+W+OVsMZy",
      "include_colab_link": true
    },
    "kernelspec": {
      "name": "python3",
      "display_name": "Python 3"
    },
    "language_info": {
      "name": "python"
    }
  },
  "cells": [
    {
      "cell_type": "markdown",
      "metadata": {
        "id": "view-in-github",
        "colab_type": "text"
      },
      "source": [
        "<a href=\"https://colab.research.google.com/github/CrestwoodCustomSolutions/Crestwood-PythonClass/blob/main/Level_10_Part_11.ipynb\" target=\"_parent\"><img src=\"https://colab.research.google.com/assets/colab-badge.svg\" alt=\"Open In Colab\"/></a>"
      ]
    },
    {
      "cell_type": "code",
      "execution_count": 3,
      "metadata": {
        "colab": {
          "base_uri": "https://localhost:8080/"
        },
        "id": "XVu1ghpQat_1",
        "outputId": "6d6d1d23-fde0-4626-8946-24741d959ce2"
      },
      "outputs": [
        {
          "output_type": "stream",
          "name": "stdout",
          "text": [
            "[10 25 33 44 22 45]\n",
            "[10. 25. 33. 44. 22. 45.]\n"
          ]
        }
      ],
      "source": [
        "# Lesson 10.16\n",
        "# File Handling\n",
        "import numpy as np\n",
        "\n",
        "age = np.array([10, 25, 33, 44, 22, 45])\n",
        "\n",
        "#np.save(\"age.npy\", age)\n",
        "\n",
        "loaded_age = np.load(\"age.npy\")\n",
        "\n",
        "print(loaded_age)\n",
        "\n",
        "np.savetxt(\"age.txt\", age, delimiter=\",\")\n",
        "\n",
        "loaded_age_txt = np.loadtxt(\"age.txt\", delimiter=\",\")\n",
        "\n",
        "print(loaded_age_txt)"
      ]
    }
  ]
}