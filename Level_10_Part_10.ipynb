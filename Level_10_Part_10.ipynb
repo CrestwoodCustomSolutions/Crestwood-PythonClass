{
  "nbformat": 4,
  "nbformat_minor": 0,
  "metadata": {
    "colab": {
      "provenance": [],
      "authorship_tag": "ABX9TyOTZx/1kkqDZensK7nIi7pp",
      "include_colab_link": true
    },
    "kernelspec": {
      "name": "python3",
      "display_name": "Python 3"
    },
    "language_info": {
      "name": "python"
    }
  },
  "cells": [
    {
      "cell_type": "markdown",
      "metadata": {
        "id": "view-in-github",
        "colab_type": "text"
      },
      "source": [
        "<a href=\"https://colab.research.google.com/github/CrestwoodCustomSolutions/Crestwood-PythonClass/blob/main/Level_10_Part_10.ipynb\" target=\"_parent\"><img src=\"https://colab.research.google.com/assets/colab-badge.svg\" alt=\"Open In Colab\"/></a>"
      ]
    },
    {
      "cell_type": "code",
      "execution_count": 11,
      "metadata": {
        "colab": {
          "base_uri": "https://localhost:8080/"
        },
        "id": "Uf2xv9wkSE7P",
        "outputId": "4b58c70f-f99e-46e9-ab12-7d3755dfede5"
      },
      "outputs": [
        {
          "output_type": "stream",
          "name": "stdout",
          "text": [
            "[False False  True False False]\n",
            "1\n",
            "[100. 150.   0. 200. 175.]\n",
            "156.25\n",
            "[100.   150.   156.25 200.   175.  ]\n"
          ]
        }
      ],
      "source": [
        "# Lesson 10.15\n",
        "# null values\n",
        "import numpy as np\n",
        "\n",
        "customer_data = np.array([100, 150, np.nan, 200, 175])\n",
        "missing_values = np.isnan(customer_data)\n",
        "\n",
        "print(missing_values)\n",
        "print(np.sum(missing_values))\n",
        "\n",
        "print (np.nan_to_num(customer_data))\n",
        "print (np.nanmean(customer_data))\n",
        "\n",
        "data_mean_filled = np.where(np.isnan(customer_data), np.nanmean(customer_data), customer_data)\n",
        "print(data_mean_filled)\n"
      ]
    }
  ]
}