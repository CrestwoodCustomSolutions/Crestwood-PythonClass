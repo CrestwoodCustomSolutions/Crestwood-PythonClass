{
  "nbformat": 4,
  "nbformat_minor": 0,
  "metadata": {
    "colab": {
      "provenance": [],
      "authorship_tag": "ABX9TyO1Q5lXZ4pv0Xae7cZwJIlX",
      "include_colab_link": true
    },
    "kernelspec": {
      "name": "python3",
      "display_name": "Python 3"
    },
    "language_info": {
      "name": "python"
    }
  },
  "cells": [
    {
      "cell_type": "markdown",
      "metadata": {
        "id": "view-in-github",
        "colab_type": "text"
      },
      "source": [
        "<a href=\"https://colab.research.google.com/github/CrestwoodCustomSolutions/Crestwood-PythonClass/blob/main/Level_09_Part_03.ipynb\" target=\"_parent\"><img src=\"https://colab.research.google.com/assets/colab-badge.svg\" alt=\"Open In Colab\"/></a>"
      ]
    },
    {
      "cell_type": "code",
      "execution_count": 6,
      "metadata": {
        "colab": {
          "base_uri": "https://localhost:8080/"
        },
        "id": "r730tjqr-q0e",
        "outputId": "11990ca3-65ce-4658-bd29-3e544ad15fd6"
      },
      "outputs": [
        {
          "output_type": "stream",
          "name": "stdout",
          "text": [
            "Honda Fit 4\n"
          ]
        }
      ],
      "source": [
        "# Intro to OOP\n",
        "# Exercise 9.2\n",
        "\n",
        "class Car():\n",
        "\n",
        "  number_of_wheels = 4\n",
        "\n",
        "  def __init__(self, make, model):\n",
        "    self.make = make\n",
        "    self.model = model\n",
        "\n",
        "car1 = Car(\"Honda\",\"Fit\")\n",
        "\n",
        "print(car1.make + \" \" + car1.model + \" \" + str(car1.number_of_wheels))\n"
      ]
    }
  ]
}