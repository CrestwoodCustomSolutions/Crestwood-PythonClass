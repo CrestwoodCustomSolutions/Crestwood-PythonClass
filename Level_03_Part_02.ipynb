{
  "nbformat": 4,
  "nbformat_minor": 0,
  "metadata": {
    "colab": {
      "provenance": [],
      "authorship_tag": "ABX9TyPZu8E8HML8andKthEbKLlu"
    },
    "kernelspec": {
      "name": "python3",
      "display_name": "Python 3"
    },
    "language_info": {
      "name": "python"
    }
  },
  "cells": [
    {
      "cell_type": "code",
      "execution_count": 3,
      "metadata": {
        "colab": {
          "base_uri": "https://localhost:8080/"
        },
        "id": "LaHy8sstc1MD",
        "outputId": "b39813c8-051b-4c52-8408-fefb6f3860b5"
      },
      "outputs": [
        {
          "output_type": "stream",
          "name": "stdout",
          "text": [
            "Your name is Yoda and your age is 900\n"
          ]
        }
      ],
      "source": [
        "name = str(\"Yoda\")\n",
        "height = float(0.66)\n",
        "age = int(900)\n",
        "print(\"Your name is \" + name + \" and your age is \" + str(age))"
      ]
    }
  ]
}