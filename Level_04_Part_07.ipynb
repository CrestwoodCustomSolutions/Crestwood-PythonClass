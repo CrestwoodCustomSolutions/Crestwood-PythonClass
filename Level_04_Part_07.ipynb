{
  "nbformat": 4,
  "nbformat_minor": 0,
  "metadata": {
    "colab": {
      "provenance": [],
      "authorship_tag": "ABX9TyMOoVnbp0ogW7ovK8ezyLRy",
      "include_colab_link": true
    },
    "kernelspec": {
      "name": "python3",
      "display_name": "Python 3"
    },
    "language_info": {
      "name": "python"
    }
  },
  "cells": [
    {
      "cell_type": "markdown",
      "metadata": {
        "id": "view-in-github",
        "colab_type": "text"
      },
      "source": [
        "<a href=\"https://colab.research.google.com/github/CrestwoodCustomSolutions/Crestwood-PythonClass/blob/main/Level_04_Part_07.ipynb\" target=\"_parent\"><img src=\"https://colab.research.google.com/assets/colab-badge.svg\" alt=\"Open In Colab\"/></a>"
      ]
    },
    {
      "cell_type": "code",
      "execution_count": 2,
      "metadata": {
        "colab": {
          "base_uri": "https://localhost:8080/"
        },
        "id": "illPiD1O9Kzh",
        "outputId": "7aee3113-89c3-4ba2-cb10-dcb5c9cd0650"
      },
      "outputs": [
        {
          "output_type": "stream",
          "name": "stdout",
          "text": [
            "My age is 39.\n",
            "My age is 19.\n"
          ]
        }
      ],
      "source": [
        "def my_age(age=19):\n",
        "  print(\"My age is \" + str(age) + \".\")\n",
        "\n",
        "\n",
        "my_age(39)\n",
        "my_age()"
      ]
    }
  ]
}