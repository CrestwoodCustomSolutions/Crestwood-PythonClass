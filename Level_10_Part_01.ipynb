{
  "nbformat": 4,
  "nbformat_minor": 0,
  "metadata": {
    "colab": {
      "provenance": [],
      "authorship_tag": "ABX9TyM1R3dKVrBOaGIbhwGZWy5I",
      "include_colab_link": true
    },
    "kernelspec": {
      "name": "python3",
      "display_name": "Python 3"
    },
    "language_info": {
      "name": "python"
    }
  },
  "cells": [
    {
      "cell_type": "markdown",
      "metadata": {
        "id": "view-in-github",
        "colab_type": "text"
      },
      "source": [
        "<a href=\"https://colab.research.google.com/github/CrestwoodCustomSolutions/Crestwood-PythonClass/blob/main/Level_10_Part_01.ipynb\" target=\"_parent\"><img src=\"https://colab.research.google.com/assets/colab-badge.svg\" alt=\"Open In Colab\"/></a>"
      ]
    },
    {
      "cell_type": "code",
      "execution_count": 8,
      "metadata": {
        "id": "5xb8o0f5yxyI"
      },
      "outputs": [],
      "source": [
        "# Lesson 10.1 - NumPy\n",
        "# Lesson 10.2\n",
        "# Lesson 10.3\n",
        "import numpy as np\n",
        "\n",
        "a_np = np.array([1, 2, 3, 4])\n",
        "\n",
        "array_2d = np.array([[1, 2, 3], [4, 5, 6], [7,8,9]])\n",
        "\n",
        "array_2d\n",
        "\n",
        "array_2d.shape\n",
        "array_2d.size\n",
        "\n",
        "array_2d = np.array([[1, 2, 3], [4, 5, 6], [7,8,9]], dtype=np.int64)"
      ]
    }
  ]
}