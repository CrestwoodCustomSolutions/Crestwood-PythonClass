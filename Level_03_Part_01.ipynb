{
  "nbformat": 4,
  "nbformat_minor": 0,
  "metadata": {
    "colab": {
      "provenance": [],
      "authorship_tag": "ABX9TyOw4dtgyi8aXZLajTIcbOPK"
    },
    "kernelspec": {
      "name": "python3",
      "display_name": "Python 3"
    },
    "language_info": {
      "name": "python"
    }
  },
  "cells": [
    {
      "cell_type": "code",
      "execution_count": 7,
      "metadata": {
        "colab": {
          "base_uri": "https://localhost:8080/"
        },
        "id": "Eg0ts_QwasKb",
        "outputId": "2993c956-895f-4eaa-bec5-f2f8df41c812"
      },
      "outputs": [
        {
          "output_type": "stream",
          "name": "stdout",
          "text": [
            "1.3\n"
          ]
        }
      ],
      "source": [
        "Ahsoka_height = 1.7\n",
        "Yoda_height = 0.66\n",
        "R2D2_height = 1.09\n",
        "C3PO_height = 1.75\n",
        "print((Ahsoka_height + Yoda_height + R2D2_height + C3PO_height) / 4)"
      ]
    }
  ]
}