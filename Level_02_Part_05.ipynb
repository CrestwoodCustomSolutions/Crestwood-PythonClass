{
  "nbformat": 4,
  "nbformat_minor": 0,
  "metadata": {
    "colab": {
      "provenance": [],
      "authorship_tag": "ABX9TyOb7X3w0zgO+zBpzFLNc72E"
    },
    "kernelspec": {
      "name": "python3",
      "display_name": "Python 3"
    },
    "language_info": {
      "name": "python"
    }
  },
  "cells": [
    {
      "cell_type": "code",
      "execution_count": 5,
      "metadata": {
        "colab": {
          "base_uri": "https://localhost:8080/"
        },
        "id": "wnDIk1xPGAsb",
        "outputId": "1da32ed7-ba9b-43f8-fade-f8562c27945e"
      },
      "outputs": [
        {
          "output_type": "stream",
          "name": "stdout",
          "text": [
            "1.09\n",
            "1.09\n",
            "1.75\n"
          ]
        }
      ],
      "source": [
        "height = str()\n",
        "height = \"1.09\"\n",
        "print(height)\n",
        "height = float(height)\n",
        "print(height)\n",
        "height = height + 0.66\n",
        "print(height)"
      ]
    }
  ]
}