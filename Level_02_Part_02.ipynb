{
  "nbformat": 4,
  "nbformat_minor": 0,
  "metadata": {
    "colab": {
      "provenance": [],
      "authorship_tag": "ABX9TyPBTBYmZBb+YnHj4ne/Eoy8"
    },
    "kernelspec": {
      "name": "python3",
      "display_name": "Python 3"
    },
    "language_info": {
      "name": "python"
    }
  },
  "cells": [
    {
      "cell_type": "code",
      "execution_count": 1,
      "metadata": {
        "colab": {
          "base_uri": "https://localhost:8080/"
        },
        "id": "h54tNnfeCsqR",
        "outputId": "0c0d946e-44c6-4590-8e51-68196e29b9d7"
      },
      "outputs": [
        {
          "output_type": "stream",
          "name": "stdout",
          "text": [
            "Darth Vader\n",
            "19\n"
          ]
        }
      ],
      "source": [
        "name = str(\"Darth Vader\")\n",
        "print (name)\n",
        "age = int(19)\n",
        "print (age)"
      ]
    }
  ]
}