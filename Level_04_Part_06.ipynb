{
  "nbformat": 4,
  "nbformat_minor": 0,
  "metadata": {
    "colab": {
      "provenance": [],
      "authorship_tag": "ABX9TyMPpsA2zNBr57tFIHP8sM/I",
      "include_colab_link": true
    },
    "kernelspec": {
      "name": "python3",
      "display_name": "Python 3"
    },
    "language_info": {
      "name": "python"
    }
  },
  "cells": [
    {
      "cell_type": "markdown",
      "metadata": {
        "id": "view-in-github",
        "colab_type": "text"
      },
      "source": [
        "<a href=\"https://colab.research.google.com/github/CrestwoodCustomSolutions/Crestwood-PythonClass/blob/main/Level_04_Part_06.ipynb\" target=\"_parent\"><img src=\"https://colab.research.google.com/assets/colab-badge.svg\" alt=\"Open In Colab\"/></a>"
      ]
    },
    {
      "cell_type": "code",
      "execution_count": 1,
      "metadata": {
        "colab": {
          "base_uri": "https://localhost:8080/"
        },
        "id": "5RP0ifdS5yIm",
        "outputId": "25b32eec-08cf-4062-a9d6-bb91a5c59512"
      },
      "outputs": [
        {
          "output_type": "stream",
          "name": "stdout",
          "text": [
            "Who was on the Titanic? Jack and rose\n",
            "What year is it currently?2024\n",
            "Jack and rose were on the Titanic, which sunk 112 years ago.\n"
          ]
        }
      ],
      "source": [
        "who = input(\"Who was on the Titanic? \")\n",
        "year = input(\"What year is it currently? \" )\n",
        "\n",
        "def results(who,year):\n",
        "  long_ago = int(year) - 1912\n",
        "  print(who + \" were on the Titanic, which sunk \" + str(long_ago) + \" years ago.\")\n",
        "\n",
        "results(who,year)\n"
      ]
    }
  ]
}