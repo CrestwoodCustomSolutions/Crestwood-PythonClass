{
  "nbformat": 4,
  "nbformat_minor": 0,
  "metadata": {
    "colab": {
      "provenance": [],
      "authorship_tag": "ABX9TyP0OYz5xO5F5OL/D58EQmM4",
      "include_colab_link": true
    },
    "kernelspec": {
      "name": "python3",
      "display_name": "Python 3"
    },
    "language_info": {
      "name": "python"
    }
  },
  "cells": [
    {
      "cell_type": "markdown",
      "metadata": {
        "id": "view-in-github",
        "colab_type": "text"
      },
      "source": [
        "<a href=\"https://colab.research.google.com/github/CrestwoodCustomSolutions/Crestwood-PythonClass/blob/main/Level_06_Part_03.ipynb\" target=\"_parent\"><img src=\"https://colab.research.google.com/assets/colab-badge.svg\" alt=\"Open In Colab\"/></a>"
      ]
    },
    {
      "cell_type": "code",
      "execution_count": 6,
      "metadata": {
        "colab": {
          "base_uri": "https://localhost:8080/"
        },
        "id": "1pQV009cj9XR",
        "outputId": "503b01b7-5f66-47cd-9586-911c3a337930"
      },
      "outputs": [
        {
          "output_type": "stream",
          "name": "stdout",
          "text": [
            "Pick a team: 1, 2, or 3: 1\n",
            "You picked team 1, which has 1 character, which is Yoda\n",
            "The number of people on the team you selected is odd\n"
          ]
        }
      ],
      "source": [
        "team = input(\"Pick a team: 1, 2, or 3: \")\n",
        "if team == \"1\":\n",
        "  print(\"You picked team 1, which has 1 character, which is Yoda\")\n",
        "elif team == \"2\":\n",
        "  print(\"You picked team 2, which has 2 characters, Jack & Rose\")\n",
        "elif team == \"3\":\n",
        "  print(\"You picked team 3, which has 2 characters, Vader & Leah\")\n",
        "\n",
        "if team == \"1\":\n",
        "  print(\"The number of people on the team you selected is odd\")\n",
        "elif team == \"2\" or \"3\":\n",
        "  print(\"The number of plople on the team you selected is even\")"
      ]
    },
    {
      "cell_type": "code",
      "source": [],
      "metadata": {
        "id": "YNav-M2zstsq"
      },
      "execution_count": null,
      "outputs": []
    }
  ]
}