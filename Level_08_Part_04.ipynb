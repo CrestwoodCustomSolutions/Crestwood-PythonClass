{
  "nbformat": 4,
  "nbformat_minor": 0,
  "metadata": {
    "colab": {
      "provenance": [],
      "authorship_tag": "ABX9TyMX2BYJHeOVsouLYdGdTq1b",
      "include_colab_link": true
    },
    "kernelspec": {
      "name": "python3",
      "display_name": "Python 3"
    },
    "language_info": {
      "name": "python"
    }
  },
  "cells": [
    {
      "cell_type": "markdown",
      "metadata": {
        "id": "view-in-github",
        "colab_type": "text"
      },
      "source": [
        "<a href=\"https://colab.research.google.com/github/CrestwoodCustomSolutions/Crestwood-PythonClass/blob/main/Level_08_Part_04.ipynb\" target=\"_parent\"><img src=\"https://colab.research.google.com/assets/colab-badge.svg\" alt=\"Open In Colab\"/></a>"
      ]
    },
    {
      "cell_type": "code",
      "execution_count": 9,
      "metadata": {
        "colab": {
          "base_uri": "https://localhost:8080/"
        },
        "id": "5CAwArmfy3_Z",
        "outputId": "b32be992-6b5b-4d4d-9580-3b4bf9cedba0"
      },
      "outputs": [
        {
          "output_type": "stream",
          "name": "stdout",
          "text": [
            "6\n",
            "2\n",
            "Anakin Skywalker\n",
            "3\n"
          ]
        }
      ],
      "source": [
        "name = \"Darth Vader\"\n",
        "x = name.find(\"Vader\")\n",
        "print(x)\n",
        "\n",
        "y = name.index(\"r\")  # works like find, but generates error if not found\n",
        "print(y)\n",
        "\n",
        "name = \"Luke Skywalker\"\n",
        "x = name.replace(\"Luke\",\"Anakin\")\n",
        "print(x)\n",
        "\n",
        "name = \"Luke Skywalker\"\n",
        "x = name.count(\"k\")\n",
        "print(x)"
      ]
    }
  ]
}