{
  "nbformat": 4,
  "nbformat_minor": 0,
  "metadata": {
    "colab": {
      "provenance": [],
      "authorship_tag": "ABX9TyMI5GDD8BQiyeGq3ocQ4WrM",
      "include_colab_link": true
    },
    "kernelspec": {
      "name": "python3",
      "display_name": "Python 3"
    },
    "language_info": {
      "name": "python"
    }
  },
  "cells": [
    {
      "cell_type": "markdown",
      "metadata": {
        "id": "view-in-github",
        "colab_type": "text"
      },
      "source": [
        "<a href=\"https://colab.research.google.com/github/CrestwoodCustomSolutions/Crestwood-PythonClass/blob/main/Level_04_Part_09.ipynb\" target=\"_parent\"><img src=\"https://colab.research.google.com/assets/colab-badge.svg\" alt=\"Open In Colab\"/></a>"
      ]
    },
    {
      "cell_type": "code",
      "execution_count": 4,
      "metadata": {
        "colab": {
          "base_uri": "https://localhost:8080/"
        },
        "id": "a91w9xttKRPH",
        "outputId": "de6c3870-3d6d-4af9-d2e8-b447de512732"
      },
      "outputs": [
        {
          "output_type": "stream",
          "name": "stdout",
          "text": [
            "Enter the first number: 65536\n",
            "Enter the second number: 255\n",
            "operator: /\n",
            "The result is: 257.00392156862745\n"
          ]
        }
      ],
      "source": [
        "def add(num1, num2):\n",
        "  return(float(num1) + float(num2))\n",
        "\n",
        "def subtract(num1, num2):\n",
        "  return(float(num1) - float(num2))\n",
        "\n",
        "def multiply(num1, num2):\n",
        "  return(float(num1) * float(num2))\n",
        "\n",
        "def divide(num1, num2):\n",
        "  return(float(num1) / float(num2))\n",
        "\n",
        "num1 = input(\"Enter the first number: \")\n",
        "num2 = input(\"Enter the second number: \")\n",
        "opr = input(\"operator: \")\n",
        "\n",
        "if opr == \"+\":\n",
        "  print(\"The result is: \" + str(add(num1, num2)))\n",
        "elif opr == \"-\":\n",
        "  print(\"The result is: \" + str(subtract(num1, num2)))\n",
        "elif opr == \"*\":\n",
        "  print(\"The result is: \" + str(multiply(num1, num2)))\n",
        "elif opr == \"/\":\n",
        "  print(\"The result is: \" + str(divide(num1, num2)))\n",
        "else:\n",
        "  print(\"Invalid operator\")\n",
        "\n"
      ]
    }
  ]
}