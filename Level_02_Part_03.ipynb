{
  "nbformat": 4,
  "nbformat_minor": 0,
  "metadata": {
    "colab": {
      "provenance": [],
      "authorship_tag": "ABX9TyMp6Pl4+YgS+/2381vZ5E3g"
    },
    "kernelspec": {
      "name": "python3",
      "display_name": "Python 3"
    },
    "language_info": {
      "name": "python"
    }
  },
  "cells": [
    {
      "cell_type": "code",
      "execution_count": 3,
      "metadata": {
        "colab": {
          "base_uri": "https://localhost:8080/"
        },
        "id": "bSuKSvNyDlSk",
        "outputId": "3c3e86da-cbfa-49fb-f318-48ba7e922fc0"
      },
      "outputs": [
        {
          "output_type": "stream",
          "name": "stdout",
          "text": [
            "3.14\n",
            "True\n"
          ]
        },
        {
          "output_type": "execute_result",
          "data": {
            "text/plain": [
              "bool"
            ]
          },
          "metadata": {},
          "execution_count": 3
        }
      ],
      "source": [
        "pi = 3.14\n",
        "print(pi)\n",
        "\n",
        "bool_example = bool(True)\n",
        "bool_example_two = bool(1)\n",
        "\n",
        "print(bool_example)\n",
        "type (bool_example)"
      ]
    }
  ]
}