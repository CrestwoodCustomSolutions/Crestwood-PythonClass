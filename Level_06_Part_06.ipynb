{
  "nbformat": 4,
  "nbformat_minor": 0,
  "metadata": {
    "colab": {
      "provenance": [],
      "authorship_tag": "ABX9TyOQ6SzEB0CleYLhxw+b5yaB",
      "include_colab_link": true
    },
    "kernelspec": {
      "name": "python3",
      "display_name": "Python 3"
    },
    "language_info": {
      "name": "python"
    }
  },
  "cells": [
    {
      "cell_type": "markdown",
      "metadata": {
        "id": "view-in-github",
        "colab_type": "text"
      },
      "source": [
        "<a href=\"https://colab.research.google.com/github/CrestwoodCustomSolutions/Crestwood-PythonClass/blob/main/Level_06_Part_06.ipynb\" target=\"_parent\"><img src=\"https://colab.research.google.com/assets/colab-badge.svg\" alt=\"Open In Colab\"/></a>"
      ]
    },
    {
      "cell_type": "code",
      "execution_count": 1,
      "metadata": {
        "colab": {
          "base_uri": "https://localhost:8080/"
        },
        "id": "I-w3ma3pyNk0",
        "outputId": "09ee6d0d-4df8-43aa-f8f6-59355afe95e0"
      },
      "outputs": [
        {
          "output_type": "stream",
          "name": "stdout",
          "text": [
            "How many 1st class tickets? 1\n",
            "How many 2st class tickets? 2\n",
            "How many 3rd class tickets? 3\n",
            "The toal price is 1091.84\n"
          ]
        }
      ],
      "source": [
        "no_tickets_1 = input(\"How many 1st class tickets? \")\n",
        "no_tickets_2 = input(\"How many 2st class tickets? \")\n",
        "no_tickets_3 = input(\"How many 3rd class tickets? \")\n",
        "\n",
        "total_price = float(no_tickets_1) * 870 + float(no_tickets_2) * 100.42 + float(no_tickets_3) * 7\n",
        "\n",
        "print(f\"The toal price is {total_price:.2f}\")"
      ]
    }
  ]
}