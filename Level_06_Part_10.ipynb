{
  "nbformat": 4,
  "nbformat_minor": 0,
  "metadata": {
    "colab": {
      "provenance": [],
      "authorship_tag": "ABX9TyPZcghyTvliTq6C03bKUm5o",
      "include_colab_link": true
    },
    "kernelspec": {
      "name": "python3",
      "display_name": "Python 3"
    },
    "language_info": {
      "name": "python"
    }
  },
  "cells": [
    {
      "cell_type": "markdown",
      "metadata": {
        "id": "view-in-github",
        "colab_type": "text"
      },
      "source": [
        "<a href=\"https://colab.research.google.com/github/CrestwoodCustomSolutions/Crestwood-PythonClass/blob/main/Level_06_Part_10.ipynb\" target=\"_parent\"><img src=\"https://colab.research.google.com/assets/colab-badge.svg\" alt=\"Open In Colab\"/></a>"
      ]
    },
    {
      "cell_type": "code",
      "execution_count": 1,
      "metadata": {
        "colab": {
          "base_uri": "https://localhost:8080/"
        },
        "id": "4SLu296E_juJ",
        "outputId": "92e4268c-9ac8-4fa9-b04b-c09f872c3fde"
      },
      "outputs": [
        {
          "output_type": "stream",
          "name": "stdout",
          "text": [
            "The year is 1912 and nobody has found the Titanic yet.\n",
            "The year is 1913 and nobody has found the Titanic yet.\n",
            "The year is 1914 and nobody has found the Titanic yet.\n",
            "The year is 1915 and nobody has found the Titanic yet.\n",
            "The year is 1916 and nobody has found the Titanic yet.\n",
            "The year is 1917 and nobody has found the Titanic yet.\n",
            "The year is 1918 and nobody has found the Titanic yet.\n",
            "The year is 1919 and nobody has found the Titanic yet.\n",
            "The year is 1920 and nobody has found the Titanic yet.\n",
            "The year is 1921 and nobody has found the Titanic yet.\n",
            "The year is 1922 and nobody has found the Titanic yet.\n",
            "The year is 1923 and nobody has found the Titanic yet.\n",
            "The year is 1924 and nobody has found the Titanic yet.\n",
            "The year is 1925 and nobody has found the Titanic yet.\n",
            "The year is 1926 and nobody has found the Titanic yet.\n",
            "The year is 1927 and nobody has found the Titanic yet.\n",
            "The year is 1928 and nobody has found the Titanic yet.\n",
            "The year is 1929 and nobody has found the Titanic yet.\n",
            "The year is 1930 and nobody has found the Titanic yet.\n",
            "The year is 1931 and nobody has found the Titanic yet.\n",
            "The year is 1932 and nobody has found the Titanic yet.\n",
            "The year is 1933 and nobody has found the Titanic yet.\n",
            "The year is 1934 and nobody has found the Titanic yet.\n",
            "The year is 1935 and nobody has found the Titanic yet.\n",
            "The year is 1936 and nobody has found the Titanic yet.\n",
            "The year is 1937 and nobody has found the Titanic yet.\n",
            "The year is 1938 and nobody has found the Titanic yet.\n",
            "The year is 1939 and nobody has found the Titanic yet.\n",
            "The year is 1940 and nobody has found the Titanic yet.\n",
            "The year is 1941 and nobody has found the Titanic yet.\n",
            "The year is 1942 and nobody has found the Titanic yet.\n",
            "The year is 1943 and nobody has found the Titanic yet.\n",
            "The year is 1944 and nobody has found the Titanic yet.\n",
            "The year is 1945 and nobody has found the Titanic yet.\n",
            "The year is 1946 and nobody has found the Titanic yet.\n",
            "The year is 1947 and nobody has found the Titanic yet.\n",
            "The year is 1948 and nobody has found the Titanic yet.\n",
            "The year is 1949 and nobody has found the Titanic yet.\n",
            "The year is 1950 and nobody has found the Titanic yet.\n",
            "The year is 1951 and nobody has found the Titanic yet.\n",
            "The year is 1952 and nobody has found the Titanic yet.\n",
            "The year is 1953 and nobody has found the Titanic yet.\n",
            "The year is 1954 and nobody has found the Titanic yet.\n",
            "The year is 1955 and nobody has found the Titanic yet.\n",
            "The year is 1956 and nobody has found the Titanic yet.\n",
            "The year is 1957 and nobody has found the Titanic yet.\n",
            "The year is 1958 and nobody has found the Titanic yet.\n",
            "The year is 1959 and nobody has found the Titanic yet.\n",
            "The year is 1960 and nobody has found the Titanic yet.\n",
            "The year is 1961 and nobody has found the Titanic yet.\n",
            "The year is 1962 and nobody has found the Titanic yet.\n",
            "The year is 1963 and nobody has found the Titanic yet.\n",
            "The year is 1964 and nobody has found the Titanic yet.\n",
            "The year is 1965 and nobody has found the Titanic yet.\n",
            "The year is 1966 and nobody has found the Titanic yet.\n",
            "The year is 1967 and nobody has found the Titanic yet.\n",
            "The year is 1968 and nobody has found the Titanic yet.\n",
            "The year is 1969 and nobody has found the Titanic yet.\n",
            "The year is 1970 and nobody has found the Titanic yet.\n",
            "The year is 1971 and nobody has found the Titanic yet.\n",
            "The year is 1972 and nobody has found the Titanic yet.\n",
            "The year is 1973 and nobody has found the Titanic yet.\n",
            "The year is 1974 and nobody has found the Titanic yet.\n",
            "The year is 1975 and nobody has found the Titanic yet.\n",
            "The year is 1976 and nobody has found the Titanic yet.\n",
            "The year is 1977 and nobody has found the Titanic yet.\n",
            "The year is 1978 and nobody has found the Titanic yet.\n",
            "The year is 1979 and nobody has found the Titanic yet.\n",
            "The year is 1980 and nobody has found the Titanic yet.\n",
            "The year is 1981 and nobody has found the Titanic yet.\n",
            "The year is 1982 and nobody has found the Titanic yet.\n",
            "The year is 1983 and nobody has found the Titanic yet.\n",
            "The year is 1984 and nobody has found the Titanic yet.\n"
          ]
        }
      ],
      "source": [
        "year = 1912\n",
        "while year <= 1984:\n",
        "  print(\"The year is \" + str(year) + \" and nobody has found the Titanic yet.\")\n",
        "  year = int(year) + 1"
      ]
    }
  ]
}