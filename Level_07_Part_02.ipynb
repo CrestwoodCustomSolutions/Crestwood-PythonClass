{
  "nbformat": 4,
  "nbformat_minor": 0,
  "metadata": {
    "colab": {
      "provenance": [],
      "authorship_tag": "ABX9TyM361c+zuC6NYfgxLXS8UJW",
      "include_colab_link": true
    },
    "kernelspec": {
      "name": "python3",
      "display_name": "Python 3"
    },
    "language_info": {
      "name": "python"
    }
  },
  "cells": [
    {
      "cell_type": "markdown",
      "metadata": {
        "id": "view-in-github",
        "colab_type": "text"
      },
      "source": [
        "<a href=\"https://colab.research.google.com/github/CrestwoodCustomSolutions/Crestwood-PythonClass/blob/main/Level_07_Part_02.ipynb\" target=\"_parent\"><img src=\"https://colab.research.google.com/assets/colab-badge.svg\" alt=\"Open In Colab\"/></a>"
      ]
    },
    {
      "cell_type": "code",
      "execution_count": 15,
      "metadata": {
        "colab": {
          "base_uri": "https://localhost:8080/"
        },
        "id": "9BZQMHQIE12-",
        "outputId": "08764f78-044e-42f6-c18a-2f37a7cf7fd6"
      },
      "outputs": [
        {
          "output_type": "stream",
          "name": "stdout",
          "text": [
            "Sith Order\n",
            "Sith Order\n",
            "{'Luke Skywalker': 'Rebel Alliance', 'Darth Vader': 'Sith Order', 'Obi-Wan Kenobi': 'Jedi Order', 'Leia': 'Rebel Alliance'}\n",
            "('Luke Skywalker', 'Rebel Alliance')\n",
            "('Darth Vader', 'Sith Order')\n",
            "('Obi-Wan Kenobi', 'Jedi Order')\n",
            "('Leia', 'Rebel Alliance')\n",
            "Luke Skywalker Rebel Alliance\n",
            "Darth Vader Sith Order\n",
            "Obi-Wan Kenobi Jedi Order\n",
            "Leia Rebel Alliance\n"
          ]
        }
      ],
      "source": [
        "#Exercise 7.2\n",
        "allegiences = {\n",
        "    \"Luke Skywalker\" : \"Rebel Alliance\",\n",
        "    \"Darth Vader\" : \"Galactic Empire\",\n",
        "    \"Obi-Wan Kenobi\" : \"Jedi Order\"\n",
        "    }\n",
        "\n",
        "allegiences[\"Darth Vader\"] = \"Sith Order\"\n",
        "\n",
        "print(allegiences.get(\"Darth Vader\"))\n",
        "print(allegiences[\"Darth Vader\"])\n",
        "\n",
        "allegiences[\"Leia\"] = \"Rebel Alliance\"\n",
        "\n",
        "print(allegiences)\n",
        "for value in allegiences.items():\n",
        "  print(value)\n",
        "for key, value in allegiences.items():\n",
        "  print(key, value)"
      ]
    }
  ]
}