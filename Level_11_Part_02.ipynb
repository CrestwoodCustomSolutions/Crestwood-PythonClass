{
  "nbformat": 4,
  "nbformat_minor": 0,
  "metadata": {
    "colab": {
      "provenance": [],
      "authorship_tag": "ABX9TyPGYOu1djKvT0ElkZvx5mMv",
      "include_colab_link": true
    },
    "kernelspec": {
      "name": "python3",
      "display_name": "Python 3"
    },
    "language_info": {
      "name": "python"
    }
  },
  "cells": [
    {
      "cell_type": "markdown",
      "metadata": {
        "id": "view-in-github",
        "colab_type": "text"
      },
      "source": [
        "<a href=\"https://colab.research.google.com/github/CrestwoodCustomSolutions/Crestwood-PythonClass/blob/main/Level_11_Part_02.ipynb\" target=\"_parent\"><img src=\"https://colab.research.google.com/assets/colab-badge.svg\" alt=\"Open In Colab\"/></a>"
      ]
    },
    {
      "cell_type": "code",
      "execution_count": null,
      "metadata": {
        "id": "JB8nrg0Rg2zw"
      },
      "outputs": [],
      "source": [
        "# Lesson 11.3\n",
        "import pandas as pd\n",
        "import polars as pl\n",
        "\n",
        "# Panda ------------------------------------------------------------------------------------\n",
        "data_list_pd = [[1, \"Alice\"], [2, \"Bob\"], [3, \"Charlie\"]]\n",
        "df_pandas_list = pd.DataFrame(data_list_pd, columns=[\"ID\", \"Name\"])\n",
        "df_pandas_list\n",
        "\n"
      ]
    },
    {
      "cell_type": "code",
      "source": [
        "# Polars ------------------------------------------------------------------------------------\n",
        "data_list_pl = [[1, \"Alice\"], [2, \"Bob\"], [3, \"Charlie\"]]\n",
        "df_polars_list = pl.DataFrame(data_list_pl, schema=[\"ID\", \"Name\"])\n",
        "df_polars_list"
      ],
      "metadata": {
        "id": "c7Y3bNyjitg4"
      },
      "execution_count": null,
      "outputs": []
    },
    {
      "cell_type": "code",
      "source": [
        "# Read external data / files\n",
        "# Pandas\n",
        "pd_csv_loaded = pd.read_csv(\"/content/sample_data/california_housing_test.csv\")\n",
        "pd_csv_loaded\n",
        "# Polars\n",
        "pl_csv_loaded = pl.read_csv(\"/content/sample_data/california_housing_test.csv\")\n",
        "pl_csv_loaded"
      ],
      "metadata": {
        "colab": {
          "base_uri": "https://localhost:8080/",
          "height": 463
        },
        "id": "Cabux3UcjmF7",
        "outputId": "4fa09eed-e83d-4ff2-a288-39f6f40260b9"
      },
      "execution_count": 11,
      "outputs": [
        {
          "output_type": "execute_result",
          "data": {
            "text/plain": [
              "shape: (3_000, 9)\n",
              "┌───────────┬──────────┬───────────┬───────────┬───┬───────────┬───────────┬───────────┬───────────┐\n",
              "│ longitude ┆ latitude ┆ housing_m ┆ total_roo ┆ … ┆ populatio ┆ household ┆ median_in ┆ median_ho │\n",
              "│ ---       ┆ ---      ┆ edian_age ┆ ms        ┆   ┆ n         ┆ s         ┆ come      ┆ use_value │\n",
              "│ f64       ┆ f64      ┆ ---       ┆ ---       ┆   ┆ ---       ┆ ---       ┆ ---       ┆ ---       │\n",
              "│           ┆          ┆ f64       ┆ f64       ┆   ┆ f64       ┆ f64       ┆ f64       ┆ f64       │\n",
              "╞═══════════╪══════════╪═══════════╪═══════════╪═══╪═══════════╪═══════════╪═══════════╪═══════════╡\n",
              "│ -122.05   ┆ 37.37    ┆ 27.0      ┆ 3885.0    ┆ … ┆ 1537.0    ┆ 606.0     ┆ 6.6085    ┆ 344700.0  │\n",
              "│ -118.3    ┆ 34.26    ┆ 43.0      ┆ 1510.0    ┆ … ┆ 809.0     ┆ 277.0     ┆ 3.599     ┆ 176500.0  │\n",
              "│ -117.81   ┆ 33.78    ┆ 27.0      ┆ 3589.0    ┆ … ┆ 1484.0    ┆ 495.0     ┆ 5.7934    ┆ 270500.0  │\n",
              "│ -118.36   ┆ 33.82    ┆ 28.0      ┆ 67.0      ┆ … ┆ 49.0      ┆ 11.0      ┆ 6.1359    ┆ 330000.0  │\n",
              "│ -119.67   ┆ 36.33    ┆ 19.0      ┆ 1241.0    ┆ … ┆ 850.0     ┆ 237.0     ┆ 2.9375    ┆ 81700.0   │\n",
              "│ …         ┆ …        ┆ …         ┆ …         ┆ … ┆ …         ┆ …         ┆ …         ┆ …         │\n",
              "│ -119.86   ┆ 34.42    ┆ 23.0      ┆ 1450.0    ┆ … ┆ 1258.0    ┆ 607.0     ┆ 1.179     ┆ 225000.0  │\n",
              "│ -118.14   ┆ 34.06    ┆ 27.0      ┆ 5257.0    ┆ … ┆ 3496.0    ┆ 1036.0    ┆ 3.3906    ┆ 237200.0  │\n",
              "│ -119.7    ┆ 36.3     ┆ 10.0      ┆ 956.0     ┆ … ┆ 693.0     ┆ 220.0     ┆ 2.2895    ┆ 62000.0   │\n",
              "│ -117.12   ┆ 34.1     ┆ 40.0      ┆ 96.0      ┆ … ┆ 46.0      ┆ 14.0      ┆ 3.2708    ┆ 162500.0  │\n",
              "│ -119.63   ┆ 34.42    ┆ 42.0      ┆ 1765.0    ┆ … ┆ 753.0     ┆ 260.0     ┆ 8.5608    ┆ 500001.0  │\n",
              "└───────────┴──────────┴───────────┴───────────┴───┴───────────┴───────────┴───────────┴───────────┘"
            ],
            "text/html": [
              "<div><style>\n",
              ".dataframe > thead > tr,\n",
              ".dataframe > tbody > tr {\n",
              "  text-align: right;\n",
              "  white-space: pre-wrap;\n",
              "}\n",
              "</style>\n",
              "<small>shape: (3_000, 9)</small><table border=\"1\" class=\"dataframe\"><thead><tr><th>longitude</th><th>latitude</th><th>housing_median_age</th><th>total_rooms</th><th>total_bedrooms</th><th>population</th><th>households</th><th>median_income</th><th>median_house_value</th></tr><tr><td>f64</td><td>f64</td><td>f64</td><td>f64</td><td>f64</td><td>f64</td><td>f64</td><td>f64</td><td>f64</td></tr></thead><tbody><tr><td>-122.05</td><td>37.37</td><td>27.0</td><td>3885.0</td><td>661.0</td><td>1537.0</td><td>606.0</td><td>6.6085</td><td>344700.0</td></tr><tr><td>-118.3</td><td>34.26</td><td>43.0</td><td>1510.0</td><td>310.0</td><td>809.0</td><td>277.0</td><td>3.599</td><td>176500.0</td></tr><tr><td>-117.81</td><td>33.78</td><td>27.0</td><td>3589.0</td><td>507.0</td><td>1484.0</td><td>495.0</td><td>5.7934</td><td>270500.0</td></tr><tr><td>-118.36</td><td>33.82</td><td>28.0</td><td>67.0</td><td>15.0</td><td>49.0</td><td>11.0</td><td>6.1359</td><td>330000.0</td></tr><tr><td>-119.67</td><td>36.33</td><td>19.0</td><td>1241.0</td><td>244.0</td><td>850.0</td><td>237.0</td><td>2.9375</td><td>81700.0</td></tr><tr><td>&hellip;</td><td>&hellip;</td><td>&hellip;</td><td>&hellip;</td><td>&hellip;</td><td>&hellip;</td><td>&hellip;</td><td>&hellip;</td><td>&hellip;</td></tr><tr><td>-119.86</td><td>34.42</td><td>23.0</td><td>1450.0</td><td>642.0</td><td>1258.0</td><td>607.0</td><td>1.179</td><td>225000.0</td></tr><tr><td>-118.14</td><td>34.06</td><td>27.0</td><td>5257.0</td><td>1082.0</td><td>3496.0</td><td>1036.0</td><td>3.3906</td><td>237200.0</td></tr><tr><td>-119.7</td><td>36.3</td><td>10.0</td><td>956.0</td><td>201.0</td><td>693.0</td><td>220.0</td><td>2.2895</td><td>62000.0</td></tr><tr><td>-117.12</td><td>34.1</td><td>40.0</td><td>96.0</td><td>14.0</td><td>46.0</td><td>14.0</td><td>3.2708</td><td>162500.0</td></tr><tr><td>-119.63</td><td>34.42</td><td>42.0</td><td>1765.0</td><td>263.0</td><td>753.0</td><td>260.0</td><td>8.5608</td><td>500001.0</td></tr></tbody></table></div>"
            ]
          },
          "metadata": {},
          "execution_count": 11
        }
      ]
    }
  ]
}