{
  "nbformat": 4,
  "nbformat_minor": 0,
  "metadata": {
    "colab": {
      "provenance": [],
      "authorship_tag": "ABX9TyPEY7+mwPDsc1aCi4K0b6lF",
      "include_colab_link": true
    },
    "kernelspec": {
      "name": "python3",
      "display_name": "Python 3"
    },
    "language_info": {
      "name": "python"
    }
  },
  "cells": [
    {
      "cell_type": "markdown",
      "metadata": {
        "id": "view-in-github",
        "colab_type": "text"
      },
      "source": [
        "<a href=\"https://colab.research.google.com/github/CrestwoodCustomSolutions/Crestwood-PythonClass/blob/main/Level_10_Part_02.ipynb\" target=\"_parent\"><img src=\"https://colab.research.google.com/assets/colab-badge.svg\" alt=\"Open In Colab\"/></a>"
      ]
    },
    {
      "cell_type": "code",
      "execution_count": 10,
      "metadata": {
        "colab": {
          "base_uri": "https://localhost:8080/"
        },
        "id": "ftd8l6Y5_SbR",
        "outputId": "655f93fd-48e7-46e5-d4af-90519046696d"
      },
      "outputs": [
        {
          "output_type": "execute_result",
          "data": {
            "text/plain": [
              "array([10.        , 11.70588235, 13.41176471, 15.11764706, 16.82352941,\n",
              "       18.52941176, 20.23529412, 21.94117647, 23.64705882, 25.35294118,\n",
              "       27.05882353, 28.76470588, 30.47058824, 32.17647059, 33.88235294,\n",
              "       35.58823529, 37.29411765, 39.        ])"
            ]
          },
          "metadata": {},
          "execution_count": 10
        }
      ],
      "source": [
        "# Lesson 10.4 - NumPy\n",
        "import numpy as np\n",
        "\n",
        "np.full((3,3), 10)\n",
        "\n",
        "ones = np.ones((4,4))\n",
        "ones\n",
        "\n",
        "np.arange(10, 101, 10)\n",
        "\n",
        "line = np.linspace(10, 39, 18)\n",
        "line"
      ]
    }
  ]
}