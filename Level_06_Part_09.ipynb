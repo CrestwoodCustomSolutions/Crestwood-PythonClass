{
  "nbformat": 4,
  "nbformat_minor": 0,
  "metadata": {
    "colab": {
      "provenance": [],
      "authorship_tag": "ABX9TyMcNqsjW6LTTRMTvoVQ56Gm",
      "include_colab_link": true
    },
    "kernelspec": {
      "name": "python3",
      "display_name": "Python 3"
    },
    "language_info": {
      "name": "python"
    }
  },
  "cells": [
    {
      "cell_type": "markdown",
      "metadata": {
        "id": "view-in-github",
        "colab_type": "text"
      },
      "source": [
        "<a href=\"https://colab.research.google.com/github/CrestwoodCustomSolutions/Crestwood-PythonClass/blob/main/Level_06_Part_09.ipynb\" target=\"_parent\"><img src=\"https://colab.research.google.com/assets/colab-badge.svg\" alt=\"Open In Colab\"/></a>"
      ]
    },
    {
      "cell_type": "code",
      "execution_count": 3,
      "metadata": {
        "colab": {
          "base_uri": "https://localhost:8080/"
        },
        "id": "zqFLDXl75dfc",
        "outputId": "ba08053b-b407-4dab-b5c8-b4756f43edf5"
      },
      "outputs": [
        {
          "output_type": "stream",
          "name": "stdout",
          "text": [
            "Darth Vader is a jedi.\n",
            "Rey is a jedi.\n",
            "You cannot use it until 100. You are currently 50\n",
            "You cannot use it until 100. You are currently 51\n",
            "You cannot use it until 100. You are currently 52\n",
            "You cannot use it until 100. You are currently 53\n",
            "You cannot use it until 100. You are currently 54\n",
            "You cannot use it until 100. You are currently 55\n",
            "You cannot use it until 100. You are currently 56\n",
            "You cannot use it until 100. You are currently 57\n",
            "You cannot use it until 100. You are currently 58\n",
            "You cannot use it until 100. You are currently 59\n",
            "You cannot use it until 100. You are currently 60\n",
            "You cannot use it until 100. You are currently 61\n",
            "You cannot use it until 100. You are currently 62\n",
            "You cannot use it until 100. You are currently 63\n",
            "You cannot use it until 100. You are currently 64\n",
            "You cannot use it until 100. You are currently 65\n",
            "You cannot use it until 100. You are currently 66\n",
            "You cannot use it until 100. You are currently 67\n",
            "You cannot use it until 100. You are currently 68\n",
            "You cannot use it until 100. You are currently 69\n",
            "You cannot use it until 100. You are currently 70\n",
            "You cannot use it until 100. You are currently 71\n",
            "You cannot use it until 100. You are currently 72\n",
            "You cannot use it until 100. You are currently 73\n",
            "You cannot use it until 100. You are currently 74\n",
            "You cannot use it until 100. You are currently 75\n",
            "You cannot use it until 100. You are currently 76\n",
            "You cannot use it until 100. You are currently 77\n",
            "You cannot use it until 100. You are currently 78\n",
            "You cannot use it until 100. You are currently 79\n",
            "You cannot use it until 100. You are currently 80\n",
            "You cannot use it until 100. You are currently 81\n",
            "You cannot use it until 100. You are currently 82\n",
            "You cannot use it until 100. You are currently 83\n",
            "You cannot use it until 100. You are currently 84\n",
            "You cannot use it until 100. You are currently 85\n",
            "You cannot use it until 100. You are currently 86\n",
            "You cannot use it until 100. You are currently 87\n",
            "You cannot use it until 100. You are currently 88\n",
            "You cannot use it until 100. You are currently 89\n",
            "You cannot use it until 100. You are currently 90\n",
            "You cannot use it until 100. You are currently 91\n",
            "You cannot use it until 100. You are currently 92\n",
            "You cannot use it until 100. You are currently 93\n",
            "You cannot use it until 100. You are currently 94\n",
            "You cannot use it until 100. You are currently 95\n",
            "You cannot use it until 100. You are currently 96\n",
            "You cannot use it until 100. You are currently 97\n",
            "You cannot use it until 100. You are currently 98\n",
            "You cannot use it until 100. You are currently 99\n",
            "You cannot use it until 100. You are currently 100\n"
          ]
        }
      ],
      "source": [
        "#loops\n",
        "jedis = [\"Darth Vader\",\"Rey\", \"Yoda\",\"Ahsoka\"]\n",
        "for x in jedis:\n",
        "  print (x + \" is a jedi.\")\n",
        "  if x == \"Rey\":\n",
        "    break\n",
        "\n",
        "baby_yoda_age = 50\n",
        "\n",
        "while baby_yoda_age <= 100:\n",
        "  print(\"You cannot use it until 100. You are currently \" + str(baby_yoda_age))\n",
        "  baby_yoda_age = int(baby_yoda_age) + 1"
      ]
    }
  ]
}