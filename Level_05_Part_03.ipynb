{
  "nbformat": 4,
  "nbformat_minor": 0,
  "metadata": {
    "colab": {
      "provenance": [],
      "authorship_tag": "ABX9TyNN0+KtLoVuurTty2zmeRGU",
      "include_colab_link": true
    },
    "kernelspec": {
      "name": "python3",
      "display_name": "Python 3"
    },
    "language_info": {
      "name": "python"
    }
  },
  "cells": [
    {
      "cell_type": "markdown",
      "metadata": {
        "id": "view-in-github",
        "colab_type": "text"
      },
      "source": [
        "<a href=\"https://colab.research.google.com/github/CrestwoodCustomSolutions/Crestwood-PythonClass/blob/main/Level_05_Part_03.ipynb\" target=\"_parent\"><img src=\"https://colab.research.google.com/assets/colab-badge.svg\" alt=\"Open In Colab\"/></a>"
      ]
    },
    {
      "cell_type": "code",
      "execution_count": 16,
      "metadata": {
        "colab": {
          "base_uri": "https://localhost:8080/"
        },
        "id": "qXpEO32lSJH3",
        "outputId": "1535c52e-13da-499a-b8a4-fd604a800bdf"
      },
      "outputs": [
        {
          "output_type": "stream",
          "name": "stdout",
          "text": [
            "Your shopping list\n",
            "Milk\n",
            "Eggs\n",
            "Bananas\n",
            "Apples\n",
            "Total items: 4\n"
          ]
        }
      ],
      "source": [
        "def show_list(items):\n",
        "  print(\"Your shopping list\")\n",
        "  for item in items:\n",
        "    print(item)\n",
        "\n",
        "def total_items(items):\n",
        "  qty = len(items)\n",
        "  print(\"Total items: \" + str(qty))\n",
        "\n",
        "shopping_list = [\"Milk\",\"Eggs\",\"Bread\",\"Bananas\"]\n",
        "\n",
        "shopping_list.append(\"Apples\")\n",
        "shopping_list.remove(\"Bread\")\n",
        "\n",
        "show_list(shopping_list)\n",
        "total_items(shopping_list)"
      ]
    }
  ]
}