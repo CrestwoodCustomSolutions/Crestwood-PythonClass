{
  "nbformat": 4,
  "nbformat_minor": 0,
  "metadata": {
    "colab": {
      "provenance": [],
      "authorship_tag": "ABX9TyMVF9Tr2yH6ZKHahBdD8mAg",
      "include_colab_link": true
    },
    "kernelspec": {
      "name": "python3",
      "display_name": "Python 3"
    },
    "language_info": {
      "name": "python"
    }
  },
  "cells": [
    {
      "cell_type": "markdown",
      "metadata": {
        "id": "view-in-github",
        "colab_type": "text"
      },
      "source": [
        "<a href=\"https://colab.research.google.com/github/CrestwoodCustomSolutions/Crestwood-PythonClass/blob/main/Level_09_Part_02.ipynb\" target=\"_parent\"><img src=\"https://colab.research.google.com/assets/colab-badge.svg\" alt=\"Open In Colab\"/></a>"
      ]
    },
    {
      "cell_type": "code",
      "execution_count": null,
      "metadata": {
        "id": "eKJcXK3cwlWX"
      },
      "outputs": [],
      "source": [
        "# Level 09, Ep 5.\n"
      ]
    },
    {
      "cell_type": "code",
      "execution_count": 8,
      "metadata": {
        "colab": {
          "base_uri": "https://localhost:8080/"
        },
        "id": "DfzsMdIdoAK5",
        "outputId": "f835a3f4-3b53-487b-b253-ab160613062d"
      },
      "outputs": [
        {
          "output_type": "stream",
          "name": "stdout",
          "text": [
            "Hey! I am a dog! :)\n",
            "My name is John\n",
            "Hey! I am a dog! :)\n",
            "My name is Mark\n",
            "John says Woof!\n",
            "Mark says Woof!\n",
            "John walked 5\n"
          ]
        }
      ],
      "source": [
        "# Intro to OOP\n",
        "# Lesson 9.5\n",
        "# Lesson 9.6\n",
        "\n",
        "class Dog():\n",
        "  def __init__(self, name):\n",
        "    print(\"Hey! I am a dog! :)\")\n",
        "    print(\"My name is \" + name)\n",
        "    self.name = name\n",
        "\n",
        "  def bark(self):\n",
        "    print(self.name + \" says Woof!\")\n",
        "\n",
        "  def walk(self, distance):\n",
        "    print(self.name + \" walked \" + str(distance))\n",
        "\n",
        "dog1 = Dog(\"John\")\n",
        "dog2 = Dog(\"Mark\")\n",
        "\n",
        "dog1.bark()\n",
        "dog2.bark()\n",
        "dog1.walk(5)\n"
      ]
    }
  ]
}