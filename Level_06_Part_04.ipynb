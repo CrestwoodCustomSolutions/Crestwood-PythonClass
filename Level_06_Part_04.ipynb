{
  "nbformat": 4,
  "nbformat_minor": 0,
  "metadata": {
    "colab": {
      "provenance": [],
      "authorship_tag": "ABX9TyPQp4dGE1CyW85JhcKlLfFC",
      "include_colab_link": true
    },
    "kernelspec": {
      "name": "python3",
      "display_name": "Python 3"
    },
    "language_info": {
      "name": "python"
    }
  },
  "cells": [
    {
      "cell_type": "markdown",
      "metadata": {
        "id": "view-in-github",
        "colab_type": "text"
      },
      "source": [
        "<a href=\"https://colab.research.google.com/github/CrestwoodCustomSolutions/Crestwood-PythonClass/blob/main/Level_06_Part_04.ipynb\" target=\"_parent\"><img src=\"https://colab.research.google.com/assets/colab-badge.svg\" alt=\"Open In Colab\"/></a>"
      ]
    },
    {
      "cell_type": "code",
      "execution_count": 3,
      "metadata": {
        "colab": {
          "base_uri": "https://localhost:8080/"
        },
        "id": "fc2QD5HVth_C",
        "outputId": "14eca604-f6d4-4e4a-ca7c-99ffc0fcf5b4"
      },
      "outputs": [
        {
          "output_type": "stream",
          "name": "stdout",
          "text": [
            "3.10.12\n",
            "The size is two\n"
          ]
        }
      ],
      "source": [
        "import platform\n",
        "print(platform.python_version())\n",
        "\n",
        "size = 2\n",
        "\n",
        "#Match case is only valid for Python versions 3.10 and higher\n",
        "\n",
        "match size:\n",
        "  case 1:\n",
        "    print (\"This size is one\")\n",
        "  case 2:\n",
        "    print (\"The size is two\")\n",
        "\n",
        "\n",
        "\n"
      ]
    }
  ]
}