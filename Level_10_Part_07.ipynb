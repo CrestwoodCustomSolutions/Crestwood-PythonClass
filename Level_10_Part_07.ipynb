{
  "nbformat": 4,
  "nbformat_minor": 0,
  "metadata": {
    "colab": {
      "provenance": [],
      "authorship_tag": "ABX9TyOhNa4qgyUCvaEFua+vIr4a",
      "include_colab_link": true
    },
    "kernelspec": {
      "name": "python3",
      "display_name": "Python 3"
    },
    "language_info": {
      "name": "python"
    }
  },
  "cells": [
    {
      "cell_type": "markdown",
      "metadata": {
        "id": "view-in-github",
        "colab_type": "text"
      },
      "source": [
        "<a href=\"https://colab.research.google.com/github/CrestwoodCustomSolutions/Crestwood-PythonClass/blob/main/Level_10_Part_07.ipynb\" target=\"_parent\"><img src=\"https://colab.research.google.com/assets/colab-badge.svg\" alt=\"Open In Colab\"/></a>"
      ]
    },
    {
      "cell_type": "code",
      "execution_count": 3,
      "metadata": {
        "colab": {
          "base_uri": "https://localhost:8080/"
        },
        "id": "4njjQISsTimi",
        "outputId": "8f5f71e1-de55-48ad-d977-a141f0e9d9ee"
      },
      "outputs": [
        {
          "output_type": "execute_result",
          "data": {
            "text/plain": [
              "array(['Promoter', 'Passive', 'Passive', 'Detractor', 'Detractor',\n",
              "       'Detractor', 'Detractor', 'Detractor', 'Detractor'], dtype='<U9')"
            ]
          },
          "metadata": {},
          "execution_count": 3
        }
      ],
      "source": [
        "# Lesson 10.12\n",
        "import numpy as np\n",
        "\n",
        "product_prices = np.array([20,25,33,37,40])\n",
        "\n",
        "np.sqrt(product_prices)\n",
        "\n",
        "# https://numpy.org/doc/stable/reference/routines.math.html\n",
        "\n",
        "#creating custom vectorization\n",
        "\n",
        "def calculate_nps(score):\n",
        "  if score >= 9:\n",
        "    return \"Promoter\"\n",
        "  elif score >= 7:\n",
        "    return \"Passive\"\n",
        "  else:\n",
        "    return \"Detractor\"\n",
        "\n",
        "nps_ufunc = np.vectorize(calculate_nps)\n",
        "\n",
        "scores = np.array([9, 8, 7, 6, 5, 4, 3, 2, 1])\n",
        "nps_ufunc(scores)\n"
      ]
    }
  ]
}