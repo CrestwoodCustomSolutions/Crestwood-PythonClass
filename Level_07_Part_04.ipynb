{
  "nbformat": 4,
  "nbformat_minor": 0,
  "metadata": {
    "colab": {
      "provenance": [],
      "authorship_tag": "ABX9TyNP436zsUzyyE9S+lTbLoPs",
      "include_colab_link": true
    },
    "kernelspec": {
      "name": "python3",
      "display_name": "Python 3"
    },
    "language_info": {
      "name": "python"
    }
  },
  "cells": [
    {
      "cell_type": "markdown",
      "metadata": {
        "id": "view-in-github",
        "colab_type": "text"
      },
      "source": [
        "<a href=\"https://colab.research.google.com/github/CrestwoodCustomSolutions/Crestwood-PythonClass/blob/main/Level_07_Part_04.ipynb\" target=\"_parent\"><img src=\"https://colab.research.google.com/assets/colab-badge.svg\" alt=\"Open In Colab\"/></a>"
      ]
    },
    {
      "cell_type": "code",
      "execution_count": 28,
      "metadata": {
        "colab": {
          "base_uri": "https://localhost:8080/",
          "height": 505
        },
        "id": "4x0uWzbCMsaF",
        "outputId": "8ee5cc63-faa8-4f6d-d38a-6285b32b8210"
      },
      "outputs": [
        {
          "output_type": "stream",
          "name": "stdout",
          "text": [
            "Menu:\n",
            "   Dish: Burger | Category: Main | Price: $10.50\n",
            "   Dish: Soup | Category: Appetizer | Price: $5.00\n",
            "   Dish: Ice Cream | Category: Dessert | Price: $3.50\n",
            "   Dish: Steak | Category: Main | Price: $500.00\n",
            "   Dish: Soda | Category: Drink | Price: $2.00\n",
            "Menu:\n",
            "   Dish: Burger | Category: Main | Price: $10.50\n",
            "   Dish: Soup | Category: Appetizer | Price: $2.00\n",
            "   Dish: Ice Cream | Category: Dessert | Price: $3.50\n",
            "   Dish: Steak | Category: Main | Price: $500.00\n",
            "{'Main': 2, 'Appetizer': 1, 'Dessert': 1}\n"
          ]
        },
        {
          "output_type": "error",
          "ename": "TypeError",
          "evalue": "'tuple' object does not support item assignment",
          "traceback": [
            "\u001b[0;31m---------------------------------------------------------------------------\u001b[0m",
            "\u001b[0;31mTypeError\u001b[0m                                 Traceback (most recent call last)",
            "\u001b[0;32m<ipython-input-28-9421d935fc06>\u001b[0m in \u001b[0;36m<cell line: 67>\u001b[0;34m()\u001b[0m\n\u001b[1;32m     65\u001b[0m \u001b[0mdisplay_menu\u001b[0m\u001b[0;34m(\u001b[0m\u001b[0;34m)\u001b[0m\u001b[0;34m\u001b[0m\u001b[0;34m\u001b[0m\u001b[0m\n\u001b[1;32m     66\u001b[0m \u001b[0mcount_menu\u001b[0m\u001b[0;34m(\u001b[0m\u001b[0;34m)\u001b[0m\u001b[0;34m\u001b[0m\u001b[0;34m\u001b[0m\u001b[0m\n\u001b[0;32m---> 67\u001b[0;31m \u001b[0mupdate_price_V2\u001b[0m\u001b[0;34m(\u001b[0m\u001b[0mmenu\u001b[0m\u001b[0;34m,\u001b[0m \u001b[0;34m\"Soup\"\u001b[0m\u001b[0;34m,\u001b[0m \u001b[0;36m9.99\u001b[0m\u001b[0;34m)\u001b[0m\u001b[0;34m\u001b[0m\u001b[0;34m\u001b[0m\u001b[0m\n\u001b[0m",
            "\u001b[0;32m<ipython-input-28-9421d935fc06>\u001b[0m in \u001b[0;36mupdate_price_V2\u001b[0;34m(menu, dish_name, new_price)\u001b[0m\n\u001b[1;32m     54\u001b[0m \u001b[0;32mdef\u001b[0m \u001b[0mupdate_price_V2\u001b[0m\u001b[0;34m(\u001b[0m\u001b[0mmenu\u001b[0m\u001b[0;34m,\u001b[0m \u001b[0mdish_name\u001b[0m\u001b[0;34m,\u001b[0m \u001b[0mnew_price\u001b[0m\u001b[0;34m)\u001b[0m\u001b[0;34m:\u001b[0m\u001b[0;34m\u001b[0m\u001b[0;34m\u001b[0m\u001b[0m\n\u001b[1;32m     55\u001b[0m   \u001b[0;32mif\u001b[0m \u001b[0mdish_name\u001b[0m \u001b[0;32min\u001b[0m \u001b[0mmenu\u001b[0m\u001b[0;34m:\u001b[0m\u001b[0;34m\u001b[0m\u001b[0;34m\u001b[0m\u001b[0m\n\u001b[0;32m---> 56\u001b[0;31m     \u001b[0mmenu\u001b[0m\u001b[0;34m[\u001b[0m\u001b[0mdish_name\u001b[0m\u001b[0;34m]\u001b[0m\u001b[0;34m[\u001b[0m\u001b[0;36m1\u001b[0m\u001b[0;34m]\u001b[0m \u001b[0;34m=\u001b[0m \u001b[0mnew_price\u001b[0m\u001b[0;34m\u001b[0m\u001b[0;34m\u001b[0m\u001b[0m\n\u001b[0m\u001b[1;32m     57\u001b[0m   \u001b[0;32melse\u001b[0m\u001b[0;34m:\u001b[0m\u001b[0;34m\u001b[0m\u001b[0;34m\u001b[0m\u001b[0m\n\u001b[1;32m     58\u001b[0m    \u001b[0mprint\u001b[0m\u001b[0;34m(\u001b[0m\u001b[0;34m\"Dish not found\"\u001b[0m\u001b[0;34m)\u001b[0m\u001b[0;34m\u001b[0m\u001b[0;34m\u001b[0m\u001b[0m\n",
            "\u001b[0;31mTypeError\u001b[0m: 'tuple' object does not support item assignment"
          ]
        }
      ],
      "source": [
        "# Level 7 Final Exercise; restaurant menu manager\n",
        "# -------------------------------------------------------------------------\n",
        "# Step 1: Initial Menu\n",
        "\n",
        "menu = {\n",
        "     'Burger': ('Main', 10.5),\n",
        "     'Soup': ('Appetizer', 5.0)\n",
        "     }\n",
        "\n",
        "# Step 2: Add dishes\n",
        "menu[\"Ice Cream\"] = ('Dessert', 3.5)\n",
        "menu[\"Steak\"] = ('Main', 500)\n",
        "menu[\"Soda\"] = ('Drink', 2)\n",
        "menu[\"Salad\"] = ('Appetizer', 6.75)\n",
        "\n",
        "# Step 3: remove dish\n",
        "menu.pop(\"Salad\")\n",
        "\n",
        "# Step 4: Display menu function\n",
        "def display_menu():\n",
        "  print(\"Menu:\")\n",
        "  for key, value in menu.items():\n",
        "    category = value[0]\n",
        "    price = value[1]\n",
        "    print(f\"   Dish: {key} | Category: {category} | Price: ${price:.2f}\")\n",
        "\n",
        "# Step 5: Count dish types function\n",
        "def count_menu():\n",
        "  types = {}\n",
        "  for key, value in menu.items():\n",
        "    category = value[0]\n",
        "    if category in types:\n",
        "      types[category] += 1\n",
        "    else:\n",
        "      types[category] = 1\n",
        "  print(types)\n",
        "\n",
        "# Step 6: Update price function\n",
        "def update_price(dish, price):\n",
        "  found = False\n",
        "  category = \"\"\n",
        "  for key, value in menu.items():\n",
        "    if key == dish:\n",
        "      found = True\n",
        "      category = value[0]\n",
        "\n",
        "  if found == False:\n",
        "    print(\"Dish not found\")\n",
        "  else:\n",
        "    removed = menu.pop(key)\n",
        "    menu[dish] = (category,price)\n",
        "\n",
        "#from class\n",
        "def update_price_V2(menu, dish_name, new_price):\n",
        "  if dish_name in menu:\n",
        "    menu[dish_name] = (menu[dish_name][0], new_price)\n",
        "  else:\n",
        "   print(\"Dish not found\")\n",
        "\n",
        "\n",
        "# Step 7: use all functions to manage menu\n",
        "\n",
        "display_menu()\n",
        "update_price(\"Soup\",2)\n",
        "display_menu()\n",
        "count_menu()\n",
        "update_price_V2(menu, \"Soup\", 9.99)"
      ]
    },
    {
      "cell_type": "code",
      "source": [],
      "metadata": {
        "id": "73uf8vImRc7l"
      },
      "execution_count": null,
      "outputs": []
    }
  ]
}