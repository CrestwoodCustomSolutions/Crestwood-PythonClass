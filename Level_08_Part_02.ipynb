{
  "nbformat": 4,
  "nbformat_minor": 0,
  "metadata": {
    "colab": {
      "provenance": [],
      "authorship_tag": "ABX9TyNI4kgLEItLC0McPAhGHd7U",
      "include_colab_link": true
    },
    "kernelspec": {
      "name": "python3",
      "display_name": "Python 3"
    },
    "language_info": {
      "name": "python"
    }
  },
  "cells": [
    {
      "cell_type": "markdown",
      "metadata": {
        "id": "view-in-github",
        "colab_type": "text"
      },
      "source": [
        "<a href=\"https://colab.research.google.com/github/CrestwoodCustomSolutions/Crestwood-PythonClass/blob/main/Level_08_Part_02.ipynb\" target=\"_parent\"><img src=\"https://colab.research.google.com/assets/colab-badge.svg\" alt=\"Open In Colab\"/></a>"
      ]
    },
    {
      "cell_type": "code",
      "execution_count": 10,
      "metadata": {
        "colab": {
          "base_uri": "https://localhost:8080/"
        },
        "id": "QAjw_L_dul1r",
        "outputId": "68ef6300-7373-4a7b-b36a-bb8471eeb0d7"
      },
      "outputs": [
        {
          "output_type": "stream",
          "name": "stdout",
          "text": [
            "R2D2\n",
            "CHRIS\n",
            "False\n",
            "True\n",
            "False\n"
          ]
        }
      ],
      "source": [
        "name  = \"C3PO\"\n",
        "print(name.replace(\"C3PO\",\"R2D2\"))\n",
        "\n",
        "name = \"chris\"\n",
        "print(name.upper())\n",
        "#name = \"51\"\n",
        "print(name.isdigit())\n",
        "print(name.isalpha())\n",
        "print(name.isspace())\n"
      ]
    }
  ]
}