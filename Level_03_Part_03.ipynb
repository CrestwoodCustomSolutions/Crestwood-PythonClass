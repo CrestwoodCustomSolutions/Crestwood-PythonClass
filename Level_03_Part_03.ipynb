{
  "nbformat": 4,
  "nbformat_minor": 0,
  "metadata": {
    "colab": {
      "provenance": [],
      "authorship_tag": "ABX9TyPunGO2y6bsUis1z2DVqWvn"
    },
    "kernelspec": {
      "name": "python3",
      "display_name": "Python 3"
    },
    "language_info": {
      "name": "python"
    }
  },
  "cells": [
    {
      "cell_type": "code",
      "execution_count": 1,
      "metadata": {
        "colab": {
          "base_uri": "https://localhost:8080/"
        },
        "id": "CVos956Kd8Cu",
        "outputId": "25a5c3a1-dd3d-4ac1-8ac8-8c3a49e93b57"
      },
      "outputs": [
        {
          "output_type": "stream",
          "name": "stdout",
          "text": [
            "Jack and Rose were on the Titanic in 1912\n"
          ]
        }
      ],
      "source": [
        "name_one = \"Jack\"\n",
        "name_two = \"Rose\"\n",
        "year = 1912\n",
        "print(name_one + \" and \" + name_two + \" were on the Titanic in \" + str(year))"
      ]
    }
  ]
}