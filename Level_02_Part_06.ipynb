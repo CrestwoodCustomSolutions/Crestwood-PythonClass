{
  "nbformat": 4,
  "nbformat_minor": 0,
  "metadata": {
    "colab": {
      "provenance": [],
      "authorship_tag": "ABX9TyPZvZ14zH/Wj5bdRSg6oiUJ"
    },
    "kernelspec": {
      "name": "python3",
      "display_name": "Python 3"
    },
    "language_info": {
      "name": "python"
    }
  },
  "cells": [
    {
      "cell_type": "code",
      "execution_count": 1,
      "metadata": {
        "colab": {
          "base_uri": "https://localhost:8080/"
        },
        "id": "D7GmvUD6KNuH",
        "outputId": "01d59afb-1cb4-4c48-98e3-27c1243a89f1"
      },
      "outputs": [
        {
          "output_type": "stream",
          "name": "stdout",
          "text": [
            "The amount in EUR is: 85\n"
          ]
        }
      ],
      "source": [
        "usd_amount = float(100)\n",
        "exchange_rate = float(0.85)\n",
        "eur_amount = usd_amount * exchange_rate\n",
        "\n",
        "eur_amount = int(eur_amount)\n",
        "\n",
        "print(\"The amount in EUR is:\", eur_amount)\n"
      ]
    }
  ]
}