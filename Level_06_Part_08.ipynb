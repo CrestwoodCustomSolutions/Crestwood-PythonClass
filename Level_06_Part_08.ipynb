{
  "nbformat": 4,
  "nbformat_minor": 0,
  "metadata": {
    "colab": {
      "provenance": [],
      "authorship_tag": "ABX9TyOJ2xfih7r75q/fze28WtjJ",
      "include_colab_link": true
    },
    "kernelspec": {
      "name": "python3",
      "display_name": "Python 3"
    },
    "language_info": {
      "name": "python"
    }
  },
  "cells": [
    {
      "cell_type": "markdown",
      "metadata": {
        "id": "view-in-github",
        "colab_type": "text"
      },
      "source": [
        "<a href=\"https://colab.research.google.com/github/CrestwoodCustomSolutions/Crestwood-PythonClass/blob/main/Level_06_Part_08.ipynb\" target=\"_parent\"><img src=\"https://colab.research.google.com/assets/colab-badge.svg\" alt=\"Open In Colab\"/></a>"
      ]
    },
    {
      "cell_type": "code",
      "execution_count": 7,
      "metadata": {
        "colab": {
          "base_uri": "https://localhost:8080/"
        },
        "id": "tWVHqI-F2_3H",
        "outputId": "71b4ee45-0be9-484f-a528-0d6e4a9684e1"
      },
      "outputs": [
        {
          "output_type": "stream",
          "name": "stdout",
          "text": [
            "c\n",
            "c\n",
            "c\n",
            "c\n"
          ]
        }
      ],
      "source": [
        "#print \"c\" from ship\n",
        "ship = \"Titanic\"\n",
        "\n",
        "print(ship[6])\n",
        "print(ship[-1])\n",
        "print(ship[6:7])\n",
        "print(ship[6:])"
      ]
    }
  ]
}