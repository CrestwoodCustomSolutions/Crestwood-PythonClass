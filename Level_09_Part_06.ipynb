{
  "nbformat": 4,
  "nbformat_minor": 0,
  "metadata": {
    "colab": {
      "provenance": [],
      "authorship_tag": "ABX9TyMXg8qnmSDDLcGM1lAIIG8i",
      "include_colab_link": true
    },
    "kernelspec": {
      "name": "python3",
      "display_name": "Python 3"
    },
    "language_info": {
      "name": "python"
    }
  },
  "cells": [
    {
      "cell_type": "markdown",
      "metadata": {
        "id": "view-in-github",
        "colab_type": "text"
      },
      "source": [
        "<a href=\"https://colab.research.google.com/github/CrestwoodCustomSolutions/Crestwood-PythonClass/blob/main/Level_09_Part_06.ipynb\" target=\"_parent\"><img src=\"https://colab.research.google.com/assets/colab-badge.svg\" alt=\"Open In Colab\"/></a>"
      ]
    },
    {
      "cell_type": "code",
      "execution_count": 7,
      "metadata": {
        "colab": {
          "base_uri": "https://localhost:8080/"
        },
        "id": "woOReF5lPs5u",
        "outputId": "55d7ce3e-f0d9-44f3-87b9-ff09d7598049"
      },
      "outputs": [
        {
          "output_type": "stream",
          "name": "stdout",
          "text": [
            "Dell\n",
            "Alienware\n"
          ]
        }
      ],
      "source": [
        "# Intro to OOP\n",
        "# Exercixe 9.3\n",
        "\n",
        "class Computer():\n",
        "\n",
        "  __brand = \"\"\n",
        "  __model = \"\"\n",
        "\n",
        "  def __init__ (self, brand, model):\n",
        "    self.__brand = brand\n",
        "    self.__model = model\n",
        "\n",
        "  def getInfo (self):\n",
        "    print (self.__brand)\n",
        "    print (self.__model)\n",
        "\n",
        "myPC = Computer(\"Dell\", \"Alienware\")\n",
        "\n",
        "myPC.getInfo()"
      ]
    },
    {
      "cell_type": "code",
      "source": [],
      "metadata": {
        "id": "KmHttTffRgjy"
      },
      "execution_count": null,
      "outputs": []
    }
  ]
}