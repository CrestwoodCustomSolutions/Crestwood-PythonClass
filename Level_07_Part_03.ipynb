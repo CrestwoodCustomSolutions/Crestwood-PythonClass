{
  "nbformat": 4,
  "nbformat_minor": 0,
  "metadata": {
    "colab": {
      "provenance": [],
      "authorship_tag": "ABX9TyNLsUPOnIoYP2ZxRrjHHRzk",
      "include_colab_link": true
    },
    "kernelspec": {
      "name": "python3",
      "display_name": "Python 3"
    },
    "language_info": {
      "name": "python"
    }
  },
  "cells": [
    {
      "cell_type": "markdown",
      "metadata": {
        "id": "view-in-github",
        "colab_type": "text"
      },
      "source": [
        "<a href=\"https://colab.research.google.com/github/CrestwoodCustomSolutions/Crestwood-PythonClass/blob/main/Level_07_Part_03.ipynb\" target=\"_parent\"><img src=\"https://colab.research.google.com/assets/colab-badge.svg\" alt=\"Open In Colab\"/></a>"
      ]
    },
    {
      "cell_type": "code",
      "execution_count": 3,
      "metadata": {
        "colab": {
          "base_uri": "https://localhost:8080/"
        },
        "id": "epbVDmDAU5XU",
        "outputId": "7d93245d-507e-4557-a1f8-0f50ff65d641"
      },
      "outputs": [
        {
          "output_type": "stream",
          "name": "stdout",
          "text": [
            "{'emp_2'}\n"
          ]
        }
      ],
      "source": [
        "# sets {}\n",
        "# show emps in listed in both lists\n",
        "\n",
        "storm_troopers_group1 = [\"emp_1\", \"emp_2\", \"emp_3\", \"emp_4\"]\n",
        "storm_troopers_group2 = [\"emp_5\", \"emp_2\", \"emp_34\", \"emp_35\"]\n",
        "\n",
        "set1 = set(storm_troopers_group1)\n",
        "set2 = set(storm_troopers_group2)\n",
        "\n",
        "print(set1.intersection(set2))"
      ]
    }
  ]
}