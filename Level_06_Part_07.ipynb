{
  "nbformat": 4,
  "nbformat_minor": 0,
  "metadata": {
    "colab": {
      "provenance": [],
      "authorship_tag": "ABX9TyM0ILZFLGbdTfZJNQ0bQGK9",
      "include_colab_link": true
    },
    "kernelspec": {
      "name": "python3",
      "display_name": "Python 3"
    },
    "language_info": {
      "name": "python"
    }
  },
  "cells": [
    {
      "cell_type": "markdown",
      "metadata": {
        "id": "view-in-github",
        "colab_type": "text"
      },
      "source": [
        "<a href=\"https://colab.research.google.com/github/CrestwoodCustomSolutions/Crestwood-PythonClass/blob/main/Level_06_Part_07.ipynb\" target=\"_parent\"><img src=\"https://colab.research.google.com/assets/colab-badge.svg\" alt=\"Open In Colab\"/></a>"
      ]
    },
    {
      "cell_type": "code",
      "execution_count": 6,
      "metadata": {
        "colab": {
          "base_uri": "https://localhost:8080/"
        },
        "id": "RI8RjPwc0HL8",
        "outputId": "1e5bab8e-ead6-4988-f297-b39f0b2e53dc"
      },
      "outputs": [
        {
          "output_type": "stream",
          "name": "stdout",
          "text": [
            "James\n",
            "James\n",
            "d\n",
            "Bond\n",
            "J\n"
          ]
        }
      ],
      "source": [
        "#splicing\n",
        "full_name = \"James Bond\"\n",
        "\n",
        "print(full_name[0:5])\n",
        "print(full_name[:5])\n",
        "print(full_name[-1])\n",
        "print(full_name[6:10])\n",
        "\n",
        "print(full_name[0])\n",
        "\n"
      ]
    }
  ]
}