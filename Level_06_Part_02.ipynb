{
  "nbformat": 4,
  "nbformat_minor": 0,
  "metadata": {
    "colab": {
      "provenance": [],
      "authorship_tag": "ABX9TyMtH1WBIphxK9IgxBjiS5Ec",
      "include_colab_link": true
    },
    "kernelspec": {
      "name": "python3",
      "display_name": "Python 3"
    },
    "language_info": {
      "name": "python"
    }
  },
  "cells": [
    {
      "cell_type": "markdown",
      "metadata": {
        "id": "view-in-github",
        "colab_type": "text"
      },
      "source": [
        "<a href=\"https://colab.research.google.com/github/CrestwoodCustomSolutions/Crestwood-PythonClass/blob/main/Level_06_Part_02.ipynb\" target=\"_parent\"><img src=\"https://colab.research.google.com/assets/colab-badge.svg\" alt=\"Open In Colab\"/></a>"
      ]
    },
    {
      "cell_type": "code",
      "execution_count": 5,
      "metadata": {
        "colab": {
          "base_uri": "https://localhost:8080/"
        },
        "id": "5nzxmAeqh2tR",
        "outputId": "beafe0e8-d9ca-41f0-ae11-b2f66448b5e6"
      },
      "outputs": [
        {
          "output_type": "stream",
          "name": "stdout",
          "text": [
            "Is the character holding a light saber? Yes\n",
            "The character is a jedi.\n",
            "Is the light saber green? Yes\n",
            "The charater is Yoda\n"
          ]
        }
      ],
      "source": [
        "#Level 6, Part 2\n",
        "saber = input(\"Is the character holding a light saber? \")\n",
        "if saber == \"Yes\":\n",
        "  print(\"The character is a jedi.\")\n",
        "  green = input(\"Is the light saber green? \")\n",
        "  if green == \"Yes\":\n",
        "    print(\"The charater is Yoda\")\n"
      ]
    }
  ]
}