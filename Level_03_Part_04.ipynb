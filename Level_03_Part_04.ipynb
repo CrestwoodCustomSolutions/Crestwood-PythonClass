{
  "nbformat": 4,
  "nbformat_minor": 0,
  "metadata": {
    "colab": {
      "provenance": [],
      "authorship_tag": "ABX9TyOZwf00TPDiYQOQ8njYsIU6"
    },
    "kernelspec": {
      "name": "python3",
      "display_name": "Python 3"
    },
    "language_info": {
      "name": "python"
    }
  },
  "cells": [
    {
      "cell_type": "code",
      "execution_count": 3,
      "metadata": {
        "colab": {
          "base_uri": "https://localhost:8080/"
        },
        "id": "Mrr-u-mvfLj6",
        "outputId": "26bb3020-77bd-438b-832c-0b966c9b32b5"
      },
      "outputs": [
        {
          "output_type": "stream",
          "name": "stdout",
          "text": [
            "The interest on a principal amount of 1000.0 at a rate of 5.0% APR for 2.0 years is 100.0\n"
          ]
        }
      ],
      "source": [
        "principal = float(1000)\n",
        "rate = float(5.00)\n",
        "time = float(2)\n",
        "interest = principal * rate * time / 100\n",
        "\n",
        "print(\"The interest on a principal amount of \" + str(principal) + \" at a rate of \" + str(rate) + \"% APR for \" + str(time)+ \" years is \" + str(interest) )\n"
      ]
    }
  ]
}