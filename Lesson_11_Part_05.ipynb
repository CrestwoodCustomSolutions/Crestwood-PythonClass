{
  "nbformat": 4,
  "nbformat_minor": 0,
  "metadata": {
    "colab": {
      "provenance": [],
      "authorship_tag": "ABX9TyMMIsN7skv46Il0piWuCd33",
      "include_colab_link": true
    },
    "kernelspec": {
      "name": "python3",
      "display_name": "Python 3"
    },
    "language_info": {
      "name": "python"
    }
  },
  "cells": [
    {
      "cell_type": "markdown",
      "metadata": {
        "id": "view-in-github",
        "colab_type": "text"
      },
      "source": [
        "<a href=\"https://colab.research.google.com/github/CrestwoodCustomSolutions/Crestwood-PythonClass/blob/main/Lesson_11_Part_05.ipynb\" target=\"_parent\"><img src=\"https://colab.research.google.com/assets/colab-badge.svg\" alt=\"Open In Colab\"/></a>"
      ]
    },
    {
      "cell_type": "code",
      "execution_count": 22,
      "metadata": {
        "colab": {
          "base_uri": "https://localhost:8080/",
          "height": 463
        },
        "id": "jk9Ki3rWzEDK",
        "outputId": "2413edea-55de-453a-efd9-9a6b7942e21f"
      },
      "outputs": [
        {
          "output_type": "execute_result",
          "data": {
            "text/plain": [
              "shape: (1_455, 9)\n",
              "┌───────────┬──────────┬───────────┬───────────┬───┬───────────┬───────────┬───────────┬───────────┐\n",
              "│ longitude ┆ latitude ┆ housing_m ┆ total_roo ┆ … ┆ populatio ┆ household ┆ median_in ┆ median_ho │\n",
              "│ ---       ┆ ---      ┆ edian_age ┆ ms        ┆   ┆ n         ┆ s         ┆ come      ┆ use_value │\n",
              "│ f64       ┆ f64      ┆ ---       ┆ ---       ┆   ┆ ---       ┆ ---       ┆ ---       ┆ ---       │\n",
              "│           ┆          ┆ f64       ┆ f64       ┆   ┆ f64       ┆ f64       ┆ f64       ┆ f64       │\n",
              "╞═══════════╪══════════╪═══════════╪═══════════╪═══╪═══════════╪═══════════╪═══════════╪═══════════╡\n",
              "│ -114.31   ┆ 34.19    ┆ 15.0      ┆ 5612.0    ┆ … ┆ 1015.0    ┆ 472.0     ┆ 1.4936    ┆ 66900.0   │\n",
              "│ -114.47   ┆ 34.4     ┆ 19.0      ┆ 7650.0    ┆ … ┆ 1129.0    ┆ 463.0     ┆ 1.82      ┆ 80100.0   │\n",
              "│ -116.06   ┆ 34.15    ┆ 15.0      ┆ 10377.0   ┆ … ┆ 4507.0    ┆ 1807.0    ┆ 2.2466    ┆ 66800.0   │\n",
              "│ -116.09   ┆ 34.15    ┆ 13.0      ┆ 9444.0    ┆ … ┆ 4166.0    ┆ 1482.0    ┆ 2.6111    ┆ 65600.0   │\n",
              "│ -116.24   ┆ 33.72    ┆ 25.0      ┆ 5236.0    ┆ … ┆ 2725.0    ┆ 935.0     ┆ 3.775     ┆ 93400.0   │\n",
              "│ …         ┆ …        ┆ …         ┆ …         ┆ … ┆ …         ┆ …         ┆ …         ┆ …         │\n",
              "│ -123.22   ┆ 39.28    ┆ 16.0      ┆ 5569.0    ┆ … ┆ 3148.0    ┆ 1088.0    ┆ 3.1455    ┆ 142900.0  │\n",
              "│ -123.34   ┆ 39.1     ┆ 24.0      ┆ 5372.0    ┆ … ┆ 3002.0    ┆ 992.0     ┆ 3.0652    ┆ 131100.0  │\n",
              "│ -123.49   ┆ 38.7     ┆ 9.0       ┆ 5409.0    ┆ … ┆ 594.0     ┆ 327.0     ┆ 3.3125    ┆ 295400.0  │\n",
              "│ -123.59   ┆ 38.8     ┆ 17.0      ┆ 5202.0    ┆ … ┆ 1742.0    ┆ 803.0     ┆ 3.1201    ┆ 176100.0  │\n",
              "│ -124.19   ┆ 40.73    ┆ 21.0      ┆ 5694.0    ┆ … ┆ 2907.0    ┆ 972.0     ┆ 3.5363    ┆ 90100.0   │\n",
              "└───────────┴──────────┴───────────┴───────────┴───┴───────────┴───────────┴───────────┴───────────┘"
            ],
            "text/html": [
              "<div><style>\n",
              ".dataframe > thead > tr,\n",
              ".dataframe > tbody > tr {\n",
              "  text-align: right;\n",
              "  white-space: pre-wrap;\n",
              "}\n",
              "</style>\n",
              "<small>shape: (1_455, 9)</small><table border=\"1\" class=\"dataframe\"><thead><tr><th>longitude</th><th>latitude</th><th>housing_median_age</th><th>total_rooms</th><th>total_bedrooms</th><th>population</th><th>households</th><th>median_income</th><th>median_house_value</th></tr><tr><td>f64</td><td>f64</td><td>f64</td><td>f64</td><td>f64</td><td>f64</td><td>f64</td><td>f64</td><td>f64</td></tr></thead><tbody><tr><td>-114.31</td><td>34.19</td><td>15.0</td><td>5612.0</td><td>1283.0</td><td>1015.0</td><td>472.0</td><td>1.4936</td><td>66900.0</td></tr><tr><td>-114.47</td><td>34.4</td><td>19.0</td><td>7650.0</td><td>1901.0</td><td>1129.0</td><td>463.0</td><td>1.82</td><td>80100.0</td></tr><tr><td>-116.06</td><td>34.15</td><td>15.0</td><td>10377.0</td><td>2331.0</td><td>4507.0</td><td>1807.0</td><td>2.2466</td><td>66800.0</td></tr><tr><td>-116.09</td><td>34.15</td><td>13.0</td><td>9444.0</td><td>1997.0</td><td>4166.0</td><td>1482.0</td><td>2.6111</td><td>65600.0</td></tr><tr><td>-116.24</td><td>33.72</td><td>25.0</td><td>5236.0</td><td>1039.0</td><td>2725.0</td><td>935.0</td><td>3.775</td><td>93400.0</td></tr><tr><td>&hellip;</td><td>&hellip;</td><td>&hellip;</td><td>&hellip;</td><td>&hellip;</td><td>&hellip;</td><td>&hellip;</td><td>&hellip;</td><td>&hellip;</td></tr><tr><td>-123.22</td><td>39.28</td><td>16.0</td><td>5569.0</td><td>1106.0</td><td>3148.0</td><td>1088.0</td><td>3.1455</td><td>142900.0</td></tr><tr><td>-123.34</td><td>39.1</td><td>24.0</td><td>5372.0</td><td>1051.0</td><td>3002.0</td><td>992.0</td><td>3.0652</td><td>131100.0</td></tr><tr><td>-123.49</td><td>38.7</td><td>9.0</td><td>5409.0</td><td>1019.0</td><td>594.0</td><td>327.0</td><td>3.3125</td><td>295400.0</td></tr><tr><td>-123.59</td><td>38.8</td><td>17.0</td><td>5202.0</td><td>1037.0</td><td>1742.0</td><td>803.0</td><td>3.1201</td><td>176100.0</td></tr><tr><td>-124.19</td><td>40.73</td><td>21.0</td><td>5694.0</td><td>1056.0</td><td>2907.0</td><td>972.0</td><td>3.5363</td><td>90100.0</td></tr></tbody></table></div>"
            ]
          },
          "metadata": {},
          "execution_count": 22
        }
      ],
      "source": [
        "# Lesson 11.7\n",
        "# Dataframe operations\n",
        "\n",
        "import pandas as pd\n",
        "import polars as pl\n",
        "import numpy as np\n",
        "\n",
        "sales_data_pd = pd.read_csv('/content/sample_data/california_housing_train.csv')\n",
        "sales_data_pl = pl.read_csv('/content/sample_data/california_housing_train.csv')\n",
        "\n",
        "#sales_data_pd.set_index('longitude', inplace=True)\n",
        "#sales_data_pd.reset_index(inplace=True)\n",
        "\n",
        "# Panda Filter\n",
        "sales_data_pd.loc[sales_data_pd[\"total_rooms\"] > 5000.0]\n",
        "sales_data_pd.loc[(sales_data_pd[\"total_rooms\"] > 5000.0) & (sales_data_pd[\"total_bedrooms\"] > 100.0)]\n",
        "\n",
        "# Polar Filter verions\n",
        "sales_data_pl.filter(pl.col(\"total_rooms\") > 5000.0)\n",
        "sales_data_pl.filter((pl.col(\"total_rooms\") > 5000.0) & (pl.col(\"total_bedrooms\") > 100))\n"
      ]
    }
  ]
}