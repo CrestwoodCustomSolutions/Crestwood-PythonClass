{
  "nbformat": 4,
  "nbformat_minor": 0,
  "metadata": {
    "colab": {
      "provenance": [],
      "authorship_tag": "ABX9TyMoqW7Kf3ignopbLdo+vlXQ",
      "include_colab_link": true
    },
    "kernelspec": {
      "name": "python3",
      "display_name": "Python 3"
    },
    "language_info": {
      "name": "python"
    }
  },
  "cells": [
    {
      "cell_type": "markdown",
      "metadata": {
        "id": "view-in-github",
        "colab_type": "text"
      },
      "source": [
        "<a href=\"https://colab.research.google.com/github/CrestwoodCustomSolutions/Crestwood-PythonClass/blob/main/Level_06_Part_05.ipynb\" target=\"_parent\"><img src=\"https://colab.research.google.com/assets/colab-badge.svg\" alt=\"Open In Colab\"/></a>"
      ]
    },
    {
      "cell_type": "code",
      "execution_count": 3,
      "metadata": {
        "colab": {
          "base_uri": "https://localhost:8080/"
        },
        "id": "A_Cbzka4vwm-",
        "outputId": "b920d448-c1b7-45dd-84cb-188a134ba660"
      },
      "outputs": [
        {
          "output_type": "stream",
          "name": "stdout",
          "text": [
            "what class ticket\n",
            "1\n",
            "You slected class number 1\n",
            "the price is 870.00\n"
          ]
        }
      ],
      "source": [
        "ticket = input(\"what class ticket\\n\")\n",
        "print(f\"You slected class number {ticket}\")\n",
        "if ticket == \"1\":\n",
        "  price = 870\n",
        "else:\n",
        "  price = 7\n",
        "\n",
        "print(f\"the price is {price:.2f}\")"
      ]
    }
  ]
}