{
  "nbformat": 4,
  "nbformat_minor": 0,
  "metadata": {
    "colab": {
      "provenance": [],
      "authorship_tag": "ABX9TyNWA/5QtR0uO+TWIlXwrzYa",
      "include_colab_link": true
    },
    "kernelspec": {
      "name": "python3",
      "display_name": "Python 3"
    },
    "language_info": {
      "name": "python"
    }
  },
  "cells": [
    {
      "cell_type": "markdown",
      "metadata": {
        "id": "view-in-github",
        "colab_type": "text"
      },
      "source": [
        "<a href=\"https://colab.research.google.com/github/CrestwoodCustomSolutions/Crestwood-PythonClass/blob/main/Level_04_Part_02.ipynb\" target=\"_parent\"><img src=\"https://colab.research.google.com/assets/colab-badge.svg\" alt=\"Open In Colab\"/></a>"
      ]
    },
    {
      "cell_type": "code",
      "execution_count": 2,
      "metadata": {
        "colab": {
          "base_uri": "https://localhost:8080/"
        },
        "id": "NFFU5gaUyaRo",
        "outputId": "6affd245-6bba-43d3-b576-457c7159f70c"
      },
      "outputs": [
        {
          "output_type": "stream",
          "name": "stdout",
          "text": [
            "The average height is 1.1500000000000001. The maximum height is 1.7. The minimum height is 0.66.\n"
          ]
        }
      ],
      "source": [
        "ahsoka = 1.7\n",
        "yoda = 0.66\n",
        "r2d2 = 1.09\n",
        "avg_height = (ahsoka + yoda + r2d2) / 3\n",
        "min_height = min(ahsoka, yoda, r2d2)\n",
        "max_height = max(ahsoka, yoda, r2d2)\n",
        "print(\"The average height is \" + str(avg_height) + \". The maximum height is \" + str(max_height) + \". The minimum height is \" + str(min_height) + \".\")\n"
      ]
    }
  ]
}