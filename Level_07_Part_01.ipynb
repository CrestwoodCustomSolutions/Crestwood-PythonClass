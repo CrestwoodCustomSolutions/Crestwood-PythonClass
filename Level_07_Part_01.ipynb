{
  "nbformat": 4,
  "nbformat_minor": 0,
  "metadata": {
    "colab": {
      "provenance": [],
      "authorship_tag": "ABX9TyNE6qH3RZFbDoup+n/v5PbW",
      "include_colab_link": true
    },
    "kernelspec": {
      "name": "python3",
      "display_name": "Python 3"
    },
    "language_info": {
      "name": "python"
    }
  },
  "cells": [
    {
      "cell_type": "markdown",
      "metadata": {
        "id": "view-in-github",
        "colab_type": "text"
      },
      "source": [
        "<a href=\"https://colab.research.google.com/github/CrestwoodCustomSolutions/Crestwood-PythonClass/blob/main/Level_07_Part_01.ipynb\" target=\"_parent\"><img src=\"https://colab.research.google.com/assets/colab-badge.svg\" alt=\"Open In Colab\"/></a>"
      ]
    },
    {
      "cell_type": "code",
      "execution_count": 17,
      "metadata": {
        "colab": {
          "base_uri": "https://localhost:8080/"
        },
        "id": "coKAzCBH_IPB",
        "outputId": "097a38ab-86d1-4acd-bfbb-55354751202c"
      },
      "outputs": [
        {
          "output_type": "stream",
          "name": "stdout",
          "text": [
            "[('Yoda', 'Han Solo', 'R2D2', 'C3PO'), 'Darth Vader']\n"
          ]
        },
        {
          "output_type": "execute_result",
          "data": {
            "text/plain": [
              "[('Yoda', 'Han Solo', 'R2D2', 'C3PO'), 'Darth Vader']"
            ]
          },
          "metadata": {},
          "execution_count": 17
        }
      ],
      "source": [
        "# cast tuple to list and back\n",
        "\n",
        "starting_tuple = (\"Yoda\", \"Han Solo\", \"R2D2\", \"C3PO\")\n",
        "\n",
        "work_list = [starting_tuple]\n",
        "\n",
        "#for x in starting_tuple:\n",
        "#  work_list.append(x)\n",
        "\n",
        "work_list.append(\"Darth Vader\")\n",
        "\n",
        "print(work_list)\n",
        "\n",
        "finish_tuple = (work_list)\n",
        "finish_tuple"
      ]
    },
    {
      "cell_type": "code",
      "source": [],
      "metadata": {
        "id": "ho6V5xpwC50u"
      },
      "execution_count": null,
      "outputs": []
    }
  ]
}