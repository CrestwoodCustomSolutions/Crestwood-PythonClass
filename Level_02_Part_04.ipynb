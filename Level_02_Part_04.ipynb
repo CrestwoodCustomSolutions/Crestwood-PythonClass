{
  "nbformat": 4,
  "nbformat_minor": 0,
  "metadata": {
    "colab": {
      "provenance": [],
      "authorship_tag": "ABX9TyMxWc/vO7oJjaTEmQ46vxh7"
    },
    "kernelspec": {
      "name": "python3",
      "display_name": "Python 3"
    },
    "language_info": {
      "name": "python"
    }
  },
  "cells": [
    {
      "cell_type": "code",
      "execution_count": 5,
      "metadata": {
        "colab": {
          "base_uri": "https://localhost:8080/"
        },
        "id": "U3b1fcEpE4CP",
        "outputId": "69ccd3c9-2011-4c20-d820-84d625738a0e"
      },
      "outputs": [
        {
          "output_type": "stream",
          "name": "stdout",
          "text": [
            "False\n",
            "42.01\n"
          ]
        }
      ],
      "source": [
        "i_cannot_do_it = bool(False)\n",
        "print(i_cannot_do_it)\n",
        "the_answer = float(42.01)\n",
        "print(the_answer)"
      ]
    }
  ]
}