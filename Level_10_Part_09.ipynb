{
  "nbformat": 4,
  "nbformat_minor": 0,
  "metadata": {
    "colab": {
      "provenance": [],
      "authorship_tag": "ABX9TyN02sYqxudaFihxp3DGkzCW",
      "include_colab_link": true
    },
    "kernelspec": {
      "name": "python3",
      "display_name": "Python 3"
    },
    "language_info": {
      "name": "python"
    }
  },
  "cells": [
    {
      "cell_type": "markdown",
      "metadata": {
        "id": "view-in-github",
        "colab_type": "text"
      },
      "source": [
        "<a href=\"https://colab.research.google.com/github/CrestwoodCustomSolutions/Crestwood-PythonClass/blob/main/Level_10_Part_09.ipynb\" target=\"_parent\"><img src=\"https://colab.research.google.com/assets/colab-badge.svg\" alt=\"Open In Colab\"/></a>"
      ]
    },
    {
      "cell_type": "code",
      "execution_count": 18,
      "metadata": {
        "colab": {
          "base_uri": "https://localhost:8080/"
        },
        "id": "OZP_DKGGNU8X",
        "outputId": "7f30460a-4adf-4fff-fc55-d473bd92e5ab"
      },
      "outputs": [
        {
          "output_type": "execute_result",
          "data": {
            "text/plain": [
              "array([[100, 300],\n",
              "       [200, 400]])"
            ]
          },
          "metadata": {},
          "execution_count": 18
        }
      ],
      "source": [
        "# Lesson 10.14 - Reshaping Arrays\n",
        "import numpy as np\n",
        "\n",
        "data = np.random.randint(10,100,100)\n",
        "#print(data)\n",
        "#data.reshape(100,1)\n",
        "data.reshape(10,10)\n",
        "data2 = data.reshape(10,10)\n",
        "data2\n",
        "\n",
        "# Flatten aray\n",
        "\n",
        "data2 = np.random.randint(10,100,25)\n",
        "data2.reshape(5,5)\n",
        "data2.flatten()\n",
        "\n",
        "# add rows\n",
        "\n",
        "data_source = np.array([100, 200])\n",
        "data_to_add = np.array([300, 400])\n",
        "np.vstack((data_source, data_to_add))\n",
        "\n",
        "# add columns\n",
        "data_source = np.array([[100], [200]])\n",
        "data_to_add = np.array([[300], [400]])\n",
        "np.hstack((data_source, data_to_add))"
      ]
    }
  ]
}