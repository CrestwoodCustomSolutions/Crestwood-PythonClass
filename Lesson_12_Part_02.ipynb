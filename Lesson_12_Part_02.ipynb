{
  "nbformat": 4,
  "nbformat_minor": 0,
  "metadata": {
    "colab": {
      "provenance": [],
      "authorship_tag": "ABX9TyM8t1/SePhC6P8pouKEFL6/",
      "include_colab_link": true
    },
    "kernelspec": {
      "name": "python3",
      "display_name": "Python 3"
    },
    "language_info": {
      "name": "python"
    }
  },
  "cells": [
    {
      "cell_type": "markdown",
      "metadata": {
        "id": "view-in-github",
        "colab_type": "text"
      },
      "source": [
        "<a href=\"https://colab.research.google.com/github/CrestwoodCustomSolutions/Crestwood-PythonClass/blob/main/Lesson_12_Part_02.ipynb\" target=\"_parent\"><img src=\"https://colab.research.google.com/assets/colab-badge.svg\" alt=\"Open In Colab\"/></a>"
      ]
    },
    {
      "cell_type": "code",
      "execution_count": 5,
      "metadata": {
        "colab": {
          "base_uri": "https://localhost:8080/"
        },
        "id": "aJBVIGl28vJx",
        "outputId": "4d2b5e8c-a357-4354-9a9a-d796fc8b6909"
      },
      "outputs": [
        {
          "output_type": "stream",
          "name": "stdout",
          "text": [
            "   Rating  Encoded_Rating\n",
            "0     Low               1\n",
            "1  Medium               2\n",
            "2    High               0\n",
            "3  Medium               2\n",
            "4     Low               1\n"
          ]
        }
      ],
      "source": [
        "# Lesson 12.04\n",
        "import pandas as pd\n",
        "from sklearn.preprocessing import LabelEncoder\n",
        "\n",
        "df = pd.DataFrame({\"Rating\": [\"Low\", \"Medium\", \"High\", 'Medium', \"Low\"]})\n",
        "le = LabelEncoder()\n",
        "df[\"Encoded_Rating\"] = le.fit_transform(df[\"Rating\"])\n",
        "print(df)\n"
      ]
    }
  ]
}