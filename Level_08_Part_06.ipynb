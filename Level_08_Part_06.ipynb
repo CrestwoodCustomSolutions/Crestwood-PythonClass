{
  "nbformat": 4,
  "nbformat_minor": 0,
  "metadata": {
    "colab": {
      "provenance": [],
      "authorship_tag": "ABX9TyOBGZmfS5NLiquDq+5yekPe",
      "include_colab_link": true
    },
    "kernelspec": {
      "name": "python3",
      "display_name": "Python 3"
    },
    "language_info": {
      "name": "python"
    }
  },
  "cells": [
    {
      "cell_type": "markdown",
      "metadata": {
        "id": "view-in-github",
        "colab_type": "text"
      },
      "source": [
        "<a href=\"https://colab.research.google.com/github/CrestwoodCustomSolutions/Crestwood-PythonClass/blob/main/Level_08_Part_06.ipynb\" target=\"_parent\"><img src=\"https://colab.research.google.com/assets/colab-badge.svg\" alt=\"Open In Colab\"/></a>"
      ]
    },
    {
      "cell_type": "code",
      "execution_count": 6,
      "metadata": {
        "colab": {
          "base_uri": "https://localhost:8080/"
        },
        "id": "iwTBNZ6dYtnd",
        "outputId": "ebc15c00-719b-4700-f7e0-3b5f7f098d5d"
      },
      "outputs": [
        {
          "output_type": "execute_result",
          "data": {
            "text/plain": [
              "[6, 15]"
            ]
          },
          "metadata": {},
          "execution_count": 6
        }
      ],
      "source": [
        "# 08.11 Lambda Functions & Map\n",
        "# sample code 1\n",
        "example_list = [1, 2, 3, 4, 5]\n",
        "def square(x):\n",
        "  return x**2\n",
        "\n",
        "new_list = []\n",
        "for i in range(len(example_list)):\n",
        "  new_list.append(square(example_list[i]))\n",
        "\n",
        "new_list\n",
        "\n",
        "# sample code 1 with lambda and mapping\n",
        "# the segment below provides the same output as above\n",
        "\n",
        "list(map(lambda x: x**2 , example_list))\n",
        "\n",
        "# -------------------------------------------------\n",
        "# another example\n",
        "# -------------------------------------------------\n",
        "second_list = [(1,2,3),(4,5,6)]\n",
        "\n",
        "list(map(lambda x:x[0]+x[1]+x[2], second_list))\n"
      ]
    }
  ]
}