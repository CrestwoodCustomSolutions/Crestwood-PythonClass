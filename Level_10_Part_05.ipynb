{
  "nbformat": 4,
  "nbformat_minor": 0,
  "metadata": {
    "colab": {
      "provenance": [],
      "include_colab_link": true
    },
    "kernelspec": {
      "name": "python3",
      "display_name": "Python 3"
    },
    "language_info": {
      "name": "python"
    }
  },
  "cells": [
    {
      "cell_type": "markdown",
      "metadata": {
        "id": "view-in-github",
        "colab_type": "text"
      },
      "source": [
        "<a href=\"https://colab.research.google.com/github/CrestwoodCustomSolutions/Crestwood-PythonClass/blob/main/Level_10_Part_05.ipynb\" target=\"_parent\"><img src=\"https://colab.research.google.com/assets/colab-badge.svg\" alt=\"Open In Colab\"/></a>"
      ]
    },
    {
      "cell_type": "markdown",
      "source": [
        "# Mini Project: 1D Slicing and Indexing with NumPy\n",
        "\n",
        "## Objective\n",
        "\n",
        "In this mini-project, you will practice 1D slicing and indexing techniques using NumPy. We'll work on a dataset that represents monthly sales data for a retail store and perform various data manipulation tasks.\n",
        "\n",
        "## Dataset\n",
        "\n",
        "Let's assume we have a 1D NumPy array that represents the monthly sales for a retail store for one year, in thousands of dollars.\n",
        "\n"
      ],
      "metadata": {
        "id": "SsdLahOF8gvC"
      }
    },
    {
      "cell_type": "code",
      "execution_count": 1,
      "metadata": {
        "id": "yLlaxwLe8efQ"
      },
      "outputs": [],
      "source": [
        "import numpy as np\n",
        "\n",
        "monthly_sales = np.array([200, 220, 250, 275, 300, 320, 350, 370, 400, 420, 450, 475])"
      ]
    },
    {
      "cell_type": "markdown",
      "source": [
        "\n",
        "## Tasks\n",
        "\n",
        "### Task 1: Basic Indexing\n",
        "\n",
        "1. Access and print the sales data for January (the first month).\n",
        "2. Access and print the sales data for December (the last month).\n",
        "\n",
        "\n",
        "\n",
        "\n",
        "\n",
        "\n"
      ],
      "metadata": {
        "id": "MAMlwkyc8izj"
      }
    },
    {
      "cell_type": "code",
      "source": [
        "print(\"January info: \", monthly_sales[0])\n",
        "print(\"December info: \", monthly_sales[-1])"
      ],
      "metadata": {
        "id": "lC-rm4l887rf",
        "colab": {
          "base_uri": "https://localhost:8080/"
        },
        "outputId": "4178b54c-7c7d-4f33-b0bc-48c4ae228bd8"
      },
      "execution_count": 2,
      "outputs": [
        {
          "output_type": "stream",
          "name": "stdout",
          "text": [
            "January info:  200\n",
            "December info:  475\n"
          ]
        }
      ]
    },
    {
      "cell_type": "markdown",
      "source": [
        "### Task 2: Access Quarterly Data\n",
        "\n",
        "1. Extract and print the sales data for each quarter (Q1, Q2, Q3, and Q4)."
      ],
      "metadata": {
        "id": "D8P5QdEp83ui"
      }
    },
    {
      "cell_type": "code",
      "source": [
        "q1s = monthly_sales[:3]\n",
        "q2s = monthly_sales[3:6]\n",
        "q3s = monthly_sales[6:9]\n",
        "q4s = monthly_sales[9:]\n",
        "\n",
        "print(np.mean(q1s))\n",
        "print(q2s)\n",
        "print(q3s)\n",
        "print(q4s)"
      ],
      "metadata": {
        "id": "XSuPktvY82cL",
        "colab": {
          "base_uri": "https://localhost:8080/"
        },
        "outputId": "3cb4d3e9-9dda-4bc9-dbe3-1268ed1f60e3"
      },
      "execution_count": 3,
      "outputs": [
        {
          "output_type": "stream",
          "name": "stdout",
          "text": [
            "223.33333333333334\n",
            "[275 300 320]\n",
            "[350 370 400]\n",
            "[420 450 475]\n"
          ]
        }
      ]
    },
    {
      "cell_type": "markdown",
      "source": [
        "### Task 3: Modify Sales Data\n",
        "\n",
        "1. Assume that there was an error in the data entry for the month of April. The correct sales figure is $280,000. Update this value in the array.\n",
        "2. Print the updated array to confirm the change."
      ],
      "metadata": {
        "id": "PhAeRfux819Y"
      }
    },
    {
      "cell_type": "code",
      "source": [
        "monthly_sales[3] = 280\n",
        "print(monthly_sales)"
      ],
      "metadata": {
        "id": "BnFMc5HW8jL3",
        "colab": {
          "base_uri": "https://localhost:8080/"
        },
        "outputId": "0d0ae17a-6941-4cbf-88a8-a449219bfd1f"
      },
      "execution_count": null,
      "outputs": [
        {
          "output_type": "stream",
          "name": "stdout",
          "text": [
            "[200 220 250 280 300 320 350 370 400 420 450 475]\n"
          ]
        }
      ]
    },
    {
      "cell_type": "markdown",
      "source": [
        "### Task 4: Summer Sales\n",
        "\n",
        "1. Extract and print the sales data for the summer months (June, July, August).\n",
        "2. Calculate and print the average sales for the summer months."
      ],
      "metadata": {
        "id": "Rslkxsnu8jm1"
      }
    },
    {
      "cell_type": "code",
      "source": [
        "summer_m = monthly_sales[5:8]\n",
        "print(summer_m)\n",
        "\n",
        "avg_summer = np.mean(summer_m)\n",
        "print(avg_summer)"
      ],
      "metadata": {
        "id": "Kf8Icg4P8j4S",
        "colab": {
          "base_uri": "https://localhost:8080/"
        },
        "outputId": "c22cf891-e767-4ba5-ca8d-9d6fa09d578c"
      },
      "execution_count": null,
      "outputs": [
        {
          "output_type": "stream",
          "name": "stdout",
          "text": [
            "[320 350 370]\n",
            "346.6666666666667\n"
          ]
        }
      ]
    },
    {
      "cell_type": "markdown",
      "source": [
        "### Task 5: Above Average Months\n",
        "\n",
        "1. Calculate the average monthly sales for the entire year.\n",
        "2. Identify and print the months where the sales were above average."
      ],
      "metadata": {
        "id": "5GKi3quq8kFj"
      }
    },
    {
      "cell_type": "code",
      "source": [
        "avg = np.mean(monthly_sales)"
      ],
      "metadata": {
        "id": "5-RGBsNA8kYY"
      },
      "execution_count": null,
      "outputs": []
    },
    {
      "cell_type": "code",
      "source": [
        "monthly_sales[monthly_sales > avg]"
      ],
      "metadata": {
        "colab": {
          "base_uri": "https://localhost:8080/"
        },
        "id": "lnjsetDBc5YG",
        "outputId": "094bef2f-6235-4a61-b1ec-b7eb26fa6a12"
      },
      "execution_count": null,
      "outputs": [
        {
          "output_type": "execute_result",
          "data": {
            "text/plain": [
              "array([350, 370, 400, 420, 450, 475])"
            ]
          },
          "metadata": {},
          "execution_count": 10
        }
      ]
    },
    {
      "cell_type": "code",
      "source": [],
      "metadata": {
        "id": "hIIiQFIyc-Su"
      },
      "execution_count": null,
      "outputs": []
    }
  ]
}