{
  "nbformat": 4,
  "nbformat_minor": 0,
  "metadata": {
    "colab": {
      "provenance": [],
      "authorship_tag": "ABX9TyNZ4WeSyceSZ1esPaIsHsyr",
      "include_colab_link": true
    },
    "kernelspec": {
      "name": "python3",
      "display_name": "Python 3"
    },
    "language_info": {
      "name": "python"
    }
  },
  "cells": [
    {
      "cell_type": "markdown",
      "metadata": {
        "id": "view-in-github",
        "colab_type": "text"
      },
      "source": [
        "<a href=\"https://colab.research.google.com/github/CrestwoodCustomSolutions/Crestwood-PythonClass/blob/main/Level_10_Part_06.ipynb\" target=\"_parent\"><img src=\"https://colab.research.google.com/assets/colab-badge.svg\" alt=\"Open In Colab\"/></a>"
      ]
    },
    {
      "cell_type": "code",
      "execution_count": 6,
      "metadata": {
        "colab": {
          "base_uri": "https://localhost:8080/"
        },
        "id": "gHdywD1VPAg3",
        "outputId": "a8799658-ee9b-48e0-f241-4d388b3a37d9"
      },
      "outputs": [
        {
          "output_type": "stream",
          "name": "stdout",
          "text": [
            "[1733 1528 1173 1347 1496 1576 1857 1043 1929 1925 1284 1366]\n",
            "[1559.7, 1375.2, 1055.7, 1212.3, 1346.4, 1418.4, 1671.3, 938.7, 1736.1000000000001, 1732.5, 1155.6000000000001, 1229.4]\n",
            "[1559.7 1375.2 1055.7 1212.3 1346.4 1418.4 1671.3  938.7 1736.1 1732.5\n",
            " 1155.6 1229.4]\n"
          ]
        }
      ],
      "source": [
        "# Lesson 10.09\n",
        "# Lesson 10.10\n",
        "# Vectorization exercise\n",
        "import numpy as np\n",
        "\n",
        "monthly_sales = np.random.randint(1000, 2000, 12)\n",
        "print(monthly_sales)\n",
        "\n",
        "#Python Loop\n",
        "discounted_sales = []\n",
        "for e in monthly_sales:\n",
        "    discounted_sales.append(e * 0.9)\n",
        "print(discounted_sales)\n",
        "\n",
        "#NumPy Vectorization\n",
        "discounted_sales_np = monthly_sales * 0.9\n",
        "print(discounted_sales_np)"
      ]
    }
  ]
}